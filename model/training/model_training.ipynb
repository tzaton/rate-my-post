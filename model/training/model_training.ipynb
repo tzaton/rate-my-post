{
 "cells": [
  {
   "cell_type": "markdown",
   "metadata": {},
   "source": [
    "# Model training"
   ]
  },
  {
   "cell_type": "code",
   "execution_count": 1,
   "metadata": {},
   "outputs": [
    {
     "data": {
      "text/html": [
       "Current session configs: <tt>{'conf': {'spark.pyspark.python': 'python3', 'spark.pyspark.virtualenv.enabled': 'true', 'spark.pyspark.virtualenv.type': 'native', 'spark.pyspark.virtualenv.bin.path': '/usr/bin/virtualenv', 'spark.jars.packages': 'ml.combust.mleap:mleap-spark_2.11:0.16.0'}, 'kind': 'pyspark'}</tt><br>"
      ],
      "text/plain": [
       "<IPython.core.display.HTML object>"
      ]
     },
     "metadata": {},
     "output_type": "display_data"
    },
    {
     "data": {
      "text/html": [
       "No active sessions."
      ],
      "text/plain": [
       "<IPython.core.display.HTML object>"
      ]
     },
     "metadata": {},
     "output_type": "display_data"
    }
   ],
   "source": [
    "%%configure -f\n",
    "{\n",
    "   \"conf\":{\n",
    "      \"spark.pyspark.python\":\"python3\",\n",
    "      \"spark.pyspark.virtualenv.enabled\":\"true\",\n",
    "      \"spark.pyspark.virtualenv.type\":\"native\",\n",
    "      \"spark.pyspark.virtualenv.bin.path\":\"/usr/bin/virtualenv\",\n",
    "      \"spark.jars.packages\":\"ml.combust.mleap:mleap-spark_2.11:0.16.0\"\n",
    "   }\n",
    "}"
   ]
  },
  {
   "cell_type": "code",
   "execution_count": 2,
   "metadata": {
    "scrolled": true
   },
   "outputs": [
    {
     "data": {
      "application/vnd.jupyter.widget-view+json": {
       "model_id": "66072ab81186424b83b1745f87d3eeb7",
       "version_major": 2,
       "version_minor": 0
      },
      "text/plain": [
       "VBox()"
      ]
     },
     "metadata": {},
     "output_type": "display_data"
    },
    {
     "name": "stdout",
     "output_type": "stream",
     "text": [
      "Starting Spark application\n"
     ]
    },
    {
     "data": {
      "text/html": [
       "<table>\n",
       "<tr><th>ID</th><th>YARN Application ID</th><th>Kind</th><th>State</th><th>Spark UI</th><th>Driver log</th><th>Current session?</th></tr><tr><td>0</td><td>application_1611497001598_0001</td><td>pyspark</td><td>idle</td><td><a target=\"_blank\" href=\"http://ip-172-31-20-147.ec2.internal:20888/proxy/application_1611497001598_0001/\" >Link</a></td><td><a target=\"_blank\" href=\"http://ip-172-31-21-215.ec2.internal:8042/node/containerlogs/container_1611497001598_0001_01_000001/livy\" >Link</a></td><td>✔</td></tr></table>"
      ],
      "text/plain": [
       "<IPython.core.display.HTML object>"
      ]
     },
     "metadata": {},
     "output_type": "display_data"
    },
    {
     "data": {
      "application/vnd.jupyter.widget-view+json": {
       "model_id": "",
       "version_major": 2,
       "version_minor": 0
      },
      "text/plain": [
       "FloatProgress(value=0.0, bar_style='info', description='Progress:', layout=Layout(height='25px', width='50%'),…"
      ]
     },
     "metadata": {},
     "output_type": "display_data"
    },
    {
     "name": "stdout",
     "output_type": "stream",
     "text": [
      "SparkSession available as 'spark'.\n"
     ]
    },
    {
     "data": {
      "application/vnd.jupyter.widget-view+json": {
       "model_id": "",
       "version_major": 2,
       "version_minor": 0
      },
      "text/plain": [
       "FloatProgress(value=0.0, bar_style='info', description='Progress:', layout=Layout(height='25px', width='50%'),…"
      ]
     },
     "metadata": {},
     "output_type": "display_data"
    },
    {
     "name": "stdout",
     "output_type": "stream",
     "text": [
      "Requirement already satisfied: pyarrow==0.14 in /usr/local/lib64/python3.7/site-packages\n",
      "Requirement already satisfied: numpy>=1.14 in /usr/local/lib64/python3.7/site-packages (from pyarrow==0.14)\n",
      "Requirement already satisfied: six>=1.0.0 in /usr/local/lib/python3.7/site-packages (from pyarrow==0.14)\n",
      "\n",
      "Requirement already satisfied: pandas==1.2.0 in /usr/local/lib64/python3.7/site-packages\n",
      "Requirement already satisfied: numpy>=1.16.5 in /usr/local/lib64/python3.7/site-packages (from pandas==1.2.0)\n",
      "Requirement already satisfied: pytz>=2017.3 in /usr/local/lib/python3.7/site-packages (from pandas==1.2.0)\n",
      "Requirement already satisfied: python-dateutil>=2.7.3 in /usr/local/lib/python3.7/site-packages (from pandas==1.2.0)\n",
      "Requirement already satisfied: six>=1.5 in /usr/local/lib/python3.7/site-packages (from python-dateutil>=2.7.3->pandas==1.2.0)\n",
      "\n",
      "Requirement already satisfied: matplotlib in /usr/local/lib64/python3.7/site-packages\n",
      "Requirement already satisfied: numpy>=1.15 in /usr/local/lib64/python3.7/site-packages (from matplotlib)\n",
      "Requirement already satisfied: python-dateutil>=2.1 in /usr/local/lib/python3.7/site-packages (from matplotlib)\n",
      "Requirement already satisfied: pyparsing!=2.0.4,!=2.1.2,!=2.1.6,>=2.0.3 in /usr/local/lib/python3.7/site-packages (from matplotlib)\n",
      "Requirement already satisfied: pillow>=6.2.0 in /usr/local/lib64/python3.7/site-packages (from matplotlib)\n",
      "Requirement already satisfied: cycler>=0.10 in /usr/local/lib/python3.7/site-packages (from matplotlib)\n",
      "Requirement already satisfied: kiwisolver>=1.0.1 in /usr/local/lib64/python3.7/site-packages (from matplotlib)\n",
      "Requirement already satisfied: six>=1.5 in /usr/local/lib/python3.7/site-packages (from python-dateutil>=2.1->matplotlib)"
     ]
    }
   ],
   "source": [
    "sc.install_pypi_package(\"pyarrow==0.14\")\n",
    "sc.install_pypi_package(\"pandas==1.2.0\")\n",
    "sc.install_pypi_package(\"matplotlib\")"
   ]
  },
  {
   "cell_type": "code",
   "execution_count": 3,
   "metadata": {},
   "outputs": [
    {
     "data": {
      "application/vnd.jupyter.widget-view+json": {
       "model_id": "38263b0aeb9b4eaf95c3328a3759578a",
       "version_major": 2,
       "version_minor": 0
      },
      "text/plain": [
       "VBox()"
      ]
     },
     "metadata": {},
     "output_type": "display_data"
    },
    {
     "data": {
      "application/vnd.jupyter.widget-view+json": {
       "model_id": "",
       "version_major": 2,
       "version_minor": 0
      },
      "text/plain": [
       "FloatProgress(value=0.0, bar_style='info', description='Progress:', layout=Layout(height='25px', width='50%'),…"
      ]
     },
     "metadata": {},
     "output_type": "display_data"
    }
   ],
   "source": [
    "import pyspark.sql.functions as f\n",
    "from pyspark.sql.types import *\n",
    "from pyspark.ml import Pipeline, PipelineModel\n",
    "from pyspark.ml.classification import GBTClassifier\n",
    "from pyspark.ml.feature import StringIndexer, VectorIndexer, OneHotEncoderEstimator, VectorAssembler\n",
    "from pyspark.ml.evaluation import MulticlassClassificationEvaluator, BinaryClassificationEvaluator\n",
    "from pyspark.ml.tuning import CrossValidator, ParamGridBuilder\n",
    "from pyspark.ml.stat import Correlation\n",
    "from pyspark.mllib.evaluation import MulticlassMetrics\n",
    "\n",
    "import zipfile\n",
    "import tarfile\n",
    "import os\n",
    "import json\n",
    "import matplotlib.pyplot as plt\n",
    "import pandas as pd\n",
    "import numpy as np\n",
    "import boto3\n",
    "from pprint import pprint\n",
    "from mleap.pyspark.spark_support import SimpleSparkSerializer\n",
    "\n",
    "pd.set_option('display.max_rows', 100)\n",
    "pd.set_option('display.max_columns', 100)\n",
    "pd.set_option('display.float_format', '{:0.4f}'.format)"
   ]
  },
  {
   "cell_type": "code",
   "execution_count": 4,
   "metadata": {},
   "outputs": [
    {
     "data": {
      "application/vnd.jupyter.widget-view+json": {
       "model_id": "b8b982a9135c4ab1aa15b3d5871c68cf",
       "version_major": 2,
       "version_minor": 0
      },
      "text/plain": [
       "VBox()"
      ]
     },
     "metadata": {},
     "output_type": "display_data"
    },
    {
     "data": {
      "application/vnd.jupyter.widget-view+json": {
       "model_id": "",
       "version_major": 2,
       "version_minor": 0
      },
      "text/plain": [
       "FloatProgress(value=0.0, bar_style='info', description='Progress:', layout=Layout(height='25px', width='50%'),…"
      ]
     },
     "metadata": {},
     "output_type": "display_data"
    }
   ],
   "source": [
    "bucket_name = \"ratemypost-pre\""
   ]
  },
  {
   "cell_type": "markdown",
   "metadata": {},
   "source": [
    "## Data exploration"
   ]
  },
  {
   "cell_type": "code",
   "execution_count": 5,
   "metadata": {},
   "outputs": [
    {
     "data": {
      "application/vnd.jupyter.widget-view+json": {
       "model_id": "86865a3ccb314fc78daeee27fb4ff5fe",
       "version_major": 2,
       "version_minor": 0
      },
      "text/plain": [
       "VBox()"
      ]
     },
     "metadata": {},
     "output_type": "display_data"
    },
    {
     "data": {
      "application/vnd.jupyter.widget-view+json": {
       "model_id": "",
       "version_major": 2,
       "version_minor": 0
      },
      "text/plain": [
       "FloatProgress(value=0.0, bar_style='info', description='Progress:', layout=Layout(height='25px', width='50%'),…"
      ]
     },
     "metadata": {},
     "output_type": "display_data"
    }
   ],
   "source": [
    "# Load training data\n",
    "df = spark.sql(\"select * from training.model_data\")"
   ]
  },
  {
   "cell_type": "code",
   "execution_count": 6,
   "metadata": {},
   "outputs": [
    {
     "data": {
      "application/vnd.jupyter.widget-view+json": {
       "model_id": "a1c66ace0a204334a6b9981ecffca0f8",
       "version_major": 2,
       "version_minor": 0
      },
      "text/plain": [
       "VBox()"
      ]
     },
     "metadata": {},
     "output_type": "display_data"
    },
    {
     "data": {
      "application/vnd.jupyter.widget-view+json": {
       "model_id": "",
       "version_major": 2,
       "version_minor": 0
      },
      "text/plain": [
       "FloatProgress(value=0.0, bar_style='info', description='Progress:', layout=Layout(height='25px', width='50%'),…"
      ]
     },
     "metadata": {},
     "output_type": "display_data"
    },
    {
     "name": "stdout",
     "output_type": "stream",
     "text": [
      "-RECORD 0------------------------------------------------------------------------------------------------------------------------------------------------------------------------------------------------------------------------------------------------------------------------------------------------------------------------------------------------------------------------------------------\n",
      " dataset_name                               | android-stackexchange-com                                                                                                                                                                                                                                                                                                                            \n",
      " post_id                                    | 11                                                                                                                                                                                                                                                                                                                                                   \n",
      " post_datetime                              | 2010-09-13 19:22:01.08                                                                                                                                                                                                                                                                                                                               \n",
      " post_hour                                  | 19                                                                                                                                                                                                                                                                                                                                                   \n",
      " post_dayofweek                             | 2                                                                                                                                                                                                                                                                                                                                                    \n",
      " post_month                                 | 9                                                                                                                                                                                                                                                                                                                                                    \n",
      " post_year                                  | 2010                                                                                                                                                                                                                                                                                                                                                 \n",
      " post_body                                  | <p>When I receive a text message to my Google voice number, I get a notification from my text application, as well as the Google Voice application. It would seem that the message is being forwarded to my cell number, but I've turned off text forwarding in the Voicemail &amp; Text settings.  Is there another setting that I am missing?</p>\n",
      " \n",
      " post_body_char_count                       | 331                                                                                                                                                                                                                                                                                                                                                  \n",
      " post_body_nocode_char_count                | 331                                                                                                                                                                                                                                                                                                                                                  \n",
      " post_body_code_perc                        | 0.0                                                                                                                                                                                                                                                                                                                                                  \n",
      " post_body_code_flag                        | 0                                                                                                                                                                                                                                                                                                                                                    \n",
      " post_body_image_flag                       | 0                                                                                                                                                                                                                                                                                                                                                    \n",
      " post_body_link_flag                        | 0                                                                                                                                                                                                                                                                                                                                                    \n",
      " post_body_bold_flag                        | 0                                                                                                                                                                                                                                                                                                                                                    \n",
      " post_title                                 | How do I stop from getting notified twice when I get a text to my Google Voice number?                                                                                                                                                                                                                                                               \n",
      " post_title_upper_flag                      | 1                                                                                                                                                                                                                                                                                                                                                    \n",
      " post_title_question_flag                   | 1                                                                                                                                                                                                                                                                                                                                                    \n",
      " post_title_char_count                      | 86                                                                                                                                                                                                                                                                                                                                                   \n",
      " post_tags                                  | [sms, notifications, google-voice]                                                                                                                                                                                                                                                                                                                   \n",
      " post_tag_count                             | 3                                                                                                                                                                                                                                                                                                                                                    \n",
      " post_body_sentence_count                   | 4                                                                                                                                                                                                                                                                                                                                                    \n",
      " post_body_word_count                       | 59                                                                                                                                                                                                                                                                                                                                                   \n",
      " post_body_word_distinct_count              | 19                                                                                                                                                                                                                                                                                                                                                   \n",
      " post_body_verb_perc                        | 0.2033898305084746                                                                                                                                                                                                                                                                                                                                   \n",
      " post_body_noun_perc                        | 0.3389830508474576                                                                                                                                                                                                                                                                                                                                   \n",
      " post_body_pronoun_perc                     | 0.11864406779661017                                                                                                                                                                                                                                                                                                                                  \n",
      " post_body_adjective_perc                   | 0.0                                                                                                                                                                                                                                                                                                                                                  \n",
      " post_body_adverb_perc                      | 0.03389830508474576                                                                                                                                                                                                                                                                                                                                  \n",
      " post_title_word_count                      | 18                                                                                                                                                                                                                                                                                                                                                   \n",
      " post_title_word_distinct_count             | 8                                                                                                                                                                                                                                                                                                                                                    \n",
      " post_title_verb_perc                       | 0.2222222222222222                                                                                                                                                                                                                                                                                                                                   \n",
      " post_title_noun_perc                       | 0.2222222222222222                                                                                                                                                                                                                                                                                                                                   \n",
      " post_title_pronoun_perc                    | 0.16666666666666666                                                                                                                                                                                                                                                                                                                                  \n",
      " post_title_adjective_perc                  | 0.05555555555555555                                                                                                                                                                                                                                                                                                                                  \n",
      " post_title_adverb_perc                     | 0.05555555555555555                                                                                                                                                                                                                                                                                                                                  \n",
      " post_title_in_body_perc                    | 0.625                                                                                                                                                                                                                                                                                                                                                \n",
      " tag_post_count_max                         | 6                                                                                                                                                                                                                                                                                                                                                    \n",
      " tag_post_count_30d_max                     | 3                                                                                                                                                                                                                                                                                                                                                    \n",
      " tag_post_count_365d_max                    | 6                                                                                                                                                                                                                                                                                                                                                    \n",
      " tag_age_days_max                           | 68                                                                                                                                                                                                                                                                                                                                                   \n",
      " tag_post_count_avg                         | 4.0                                                                                                                                                                                                                                                                                                                                                  \n",
      " tag_post_count_30d_avg                     | 1.3333333333333333                                                                                                                                                                                                                                                                                                                                   \n",
      " tag_post_count_365d_avg                    | 4.0                                                                                                                                                                                                                                                                                                                                                  \n",
      " tag_age_days_avg                           | 42.0                                                                                                                                                                                                                                                                                                                                                 \n",
      " user_id                                    | 30                                                                                                                                                                                                                                                                                                                                                   \n",
      " user_age_days                              | 0                                                                                                                                                                                                                                                                                                                                                    \n",
      " user_website_flag                          | 1                                                                                                                                                                                                                                                                                                                                                    \n",
      " user_location_flag                         | 1                                                                                                                                                                                                                                                                                                                                                    \n",
      " user_about_me_flag                         | 1                                                                                                                                                                                                                                                                                                                                                    \n",
      " user_badge_count                           | 0                                                                                                                                                                                                                                                                                                                                                    \n",
      " user_badge_1_count                         | 0                                                                                                                                                                                                                                                                                                                                                    \n",
      " user_badge_2_count                         | 0                                                                                                                                                                                                                                                                                                                                                    \n",
      " user_badge_3_count                         | 0                                                                                                                                                                                                                                                                                                                                                    \n",
      " user_post_count                            | 0                                                                                                                                                                                                                                                                                                                                                    \n",
      " user_question_count                        | 0                                                                                                                                                                                                                                                                                                                                                    \n",
      " user_answer_count                          | 0                                                                                                                                                                                                                                                                                                                                                    \n",
      " user_first_post_flag                       | 1                                                                                                                                                                                                                                                                                                                                                    \n",
      " user_first_question_flag                   | 1                                                                                                                                                                                                                                                                                                                                                    \n",
      " user_answered_questions_count              | 0                                                                                                                                                                                                                                                                                                                                                    \n",
      " user_accepted_answers_count                | 0                                                                                                                                                                                                                                                                                                                                                    \n",
      " user_score                                 | 0                                                                                                                                                                                                                                                                                                                                                    \n",
      " user_question_score                        | 0                                                                                                                                                                                                                                                                                                                                                    \n",
      " user_answer_score                          | 0                                                                                                                                                                                                                                                                                                                                                    \n",
      " post_closed_flag                           | 0                                                                                                                                                                                                                                                                                                                                                    \n",
      " post_score                                 | 6                                                                                                                                                                                                                                                                                                                                                    \n",
      " post_score_1d                              | 3                                                                                                                                                                                                                                                                                                                                                    \n",
      " post_score_30d                             | 4                                                                                                                                                                                                                                                                                                                                                    \n",
      " answer_count                               | 2                                                                                                                                                                                                                                                                                                                                                    \n",
      " answer_1d_count                            | 2                                                                                                                                                                                                                                                                                                                                                    \n",
      " answer_30d_count                           | 2                                                                                                                                                                                                                                                                                                                                                    \n",
      " answer_flag                                | 1                                                                                                                                                                                                                                                                                                                                                    \n",
      " answer_1d_flag                             | 1                                                                                                                                                                                                                                                                                                                                                    \n",
      " answer_7d_flag                             | 1                                                                                                                                                                                                                                                                                                                                                    \n",
      " answer_14d_flag                            | 1                                                                                                                                                                                                                                                                                                                                                    \n",
      " answer_30d_flag                            | 1                                                                                                                                                                                                                                                                                                                                                    \n",
      " answer_max_score                           | 5                                                                                                                                                                                                                                                                                                                                                    \n",
      " answer_max_score_1d                        | 1                                                                                                                                                                                                                                                                                                                                                    \n",
      " answer_max_score_30d                       | 2                                                                                                                                                                                                                                                                                                                                                    \n",
      " answer_accepted_flag                       | 1                                                                                                                                                                                                                                                                                                                                                    \n",
      " answer_accepted_1d_flag                    | 0                                                                                                                                                                                                                                                                                                                                                    \n",
      " answer_accepted_7d_flag                    | 0                                                                                                                                                                                                                                                                                                                                                    \n",
      " answer_accepted_14d_flag                   | 0                                                                                                                                                                                                                                                                                                                                                    \n",
      " answer_accepted_30d_flag                   | 1                                                                                                                                                                                                                                                                                                                                                    \n",
      " android_stackexchange_com_flag             | 1                                                                                                                                                                                                                                                                                                                                                    \n",
      " askubuntu_com_flag                         | 0                                                                                                                                                                                                                                                                                                                                                    \n",
      " cs_stackexchange_com_flag                  | 0                                                                                                                                                                                                                                                                                                                                                    \n",
      " datascience_stackexchange_com_flag         | 0                                                                                                                                                                                                                                                                                                                                                    \n",
      " dba_stackexchange_com_flag                 | 0                                                                                                                                                                                                                                                                                                                                                    \n",
      " devops_stackexchange_com_flag              | 0                                                                                                                                                                                                                                                                                                                                                    \n",
      " gamedev_stackexchange_com_flag             | 0                                                                                                                                                                                                                                                                                                                                                    \n",
      " raspberrypi_stackexchange_com_flag         | 0                                                                                                                                                                                                                                                                                                                                                    \n",
      " softwareengineering_stackexchange_com_flag | 0                                                                                                                                                                                                                                                                                                                                                    \n",
      " unix_stackexchange_com_flag                | 0                                                                                                                                                                                                                                                                                                                                                    \n",
      "only showing top 1 row"
     ]
    }
   ],
   "source": [
    "df.show(1, vertical=True, truncate=False)"
   ]
  },
  {
   "cell_type": "code",
   "execution_count": 7,
   "metadata": {},
   "outputs": [
    {
     "data": {
      "application/vnd.jupyter.widget-view+json": {
       "model_id": "1bf7cb1fac53475cbb09e40c83d61f68",
       "version_major": 2,
       "version_minor": 0
      },
      "text/plain": [
       "VBox()"
      ]
     },
     "metadata": {},
     "output_type": "display_data"
    },
    {
     "data": {
      "application/vnd.jupyter.widget-view+json": {
       "model_id": "",
       "version_major": 2,
       "version_minor": 0
      },
      "text/plain": [
       "FloatProgress(value=0.0, bar_style='info', description='Progress:', layout=Layout(height='25px', width='50%'),…"
      ]
     },
     "metadata": {},
     "output_type": "display_data"
    },
    {
     "name": "stdout",
     "output_type": "stream",
     "text": [
      "True"
     ]
    }
   ],
   "source": [
    "# check NA\n",
    "df.select([f.count(f.when(f.isnan(c[0]) | f.isnull(c[0]), c[0])).alias(c[0]) for c in df.dtypes if not c[1] in (\"string\", \"timestamp\", \"array<string>\")])\\\n",
    ".toPandas().transpose().sum().sum() == 0"
   ]
  },
  {
   "cell_type": "code",
   "execution_count": 8,
   "metadata": {
    "scrolled": false
   },
   "outputs": [
    {
     "data": {
      "application/vnd.jupyter.widget-view+json": {
       "model_id": "c299a12b057c45aca7e9d372cbfa7b88",
       "version_major": 2,
       "version_minor": 0
      },
      "text/plain": [
       "VBox()"
      ]
     },
     "metadata": {},
     "output_type": "display_data"
    },
    {
     "data": {
      "application/vnd.jupyter.widget-view+json": {
       "model_id": "",
       "version_major": 2,
       "version_minor": 0
      },
      "text/plain": [
       "FloatProgress(value=0.0, bar_style='info', description='Progress:', layout=Layout(height='25px', width='50%'),…"
      ]
     },
     "metadata": {},
     "output_type": "display_data"
    },
    {
     "name": "stdout",
     "output_type": "stream",
     "text": [
      "                              0\n",
      "answer_1d_flag           0.5677\n",
      "answer_7d_flag           0.6928\n",
      "answer_14d_flag          0.7079\n",
      "answer_30d_flag          0.7222\n",
      "answer_accepted_1d_flag  0.1449\n",
      "answer_accepted_7d_flag  0.2884\n",
      "answer_accepted_14d_flag 0.3084\n",
      "answer_accepted_30d_flag 0.3227\n",
      "post_closed_flag         0.1064"
     ]
    }
   ],
   "source": [
    "# Potential target variables\n",
    "df.agg(*[f.mean(c).alias(c) for c in [\"answer_1d_flag\",\n",
    "                                     \"answer_7d_flag\",\n",
    "                                     \"answer_14d_flag\",\n",
    "                                     \"answer_30d_flag\",\n",
    "                                     \"answer_accepted_1d_flag\",\n",
    "                                     \"answer_accepted_7d_flag\",\n",
    "                                     \"answer_accepted_14d_flag\",\n",
    "                                     \"answer_accepted_30d_flag\",\n",
    "                                     \"post_closed_flag\"]]\n",
    ").toPandas().transpose()"
   ]
  },
  {
   "cell_type": "code",
   "execution_count": 9,
   "metadata": {},
   "outputs": [
    {
     "data": {
      "application/vnd.jupyter.widget-view+json": {
       "model_id": "91d5557a06a649de9b58f161d0435380",
       "version_major": 2,
       "version_minor": 0
      },
      "text/plain": [
       "VBox()"
      ]
     },
     "metadata": {},
     "output_type": "display_data"
    },
    {
     "data": {
      "application/vnd.jupyter.widget-view+json": {
       "model_id": "",
       "version_major": 2,
       "version_minor": 0
      },
      "text/plain": [
       "FloatProgress(value=0.0, bar_style='info', description='Progress:', layout=Layout(height='25px', width='50%'),…"
      ]
     },
     "metadata": {},
     "output_type": "display_data"
    }
   ],
   "source": [
    "y = \"answer_accepted_7d_flag\""
   ]
  },
  {
   "cell_type": "code",
   "execution_count": 10,
   "metadata": {},
   "outputs": [
    {
     "data": {
      "application/vnd.jupyter.widget-view+json": {
       "model_id": "f59519cd71fc4632867f21e9f42aa61c",
       "version_major": 2,
       "version_minor": 0
      },
      "text/plain": [
       "VBox()"
      ]
     },
     "metadata": {},
     "output_type": "display_data"
    },
    {
     "data": {
      "application/vnd.jupyter.widget-view+json": {
       "model_id": "",
       "version_major": 2,
       "version_minor": 0
      },
      "text/plain": [
       "FloatProgress(value=0.0, bar_style='info', description='Progress:', layout=Layout(height='25px', width='50%'),…"
      ]
     },
     "metadata": {},
     "output_type": "display_data"
    },
    {
     "name": "stdout",
     "output_type": "stream",
     "text": [
      "                            dataset_name  answer_accepted_7d_flag\n",
      "0              android-stackexchange-com                   0.1658\n",
      "1                          askubuntu-com                   0.2089\n",
      "2                   cs-stackexchange-com                   0.3656\n",
      "3          datascience-stackexchange-com                   0.2381\n",
      "4                  dba-stackexchange-com                   0.3717\n",
      "5               devops-stackexchange-com                   0.2358\n",
      "6              gamedev-stackexchange-com                   0.3931\n",
      "7          raspberrypi-stackexchange-com                   0.2262\n",
      "8  softwareengineering-stackexchange-com                   0.4248\n",
      "9                 unix-stackexchange-com                   0.3645"
     ]
    }
   ],
   "source": [
    "df.groupBy(\"dataset_name\").agg(f.mean(\"answer_accepted_7d_flag\").alias(y)).sort(\"dataset_name\").toPandas()"
   ]
  },
  {
   "cell_type": "code",
   "execution_count": 11,
   "metadata": {},
   "outputs": [
    {
     "data": {
      "application/vnd.jupyter.widget-view+json": {
       "model_id": "a69065555f2b4d54822d805261ed7d22",
       "version_major": 2,
       "version_minor": 0
      },
      "text/plain": [
       "VBox()"
      ]
     },
     "metadata": {},
     "output_type": "display_data"
    },
    {
     "data": {
      "application/vnd.jupyter.widget-view+json": {
       "model_id": "",
       "version_major": 2,
       "version_minor": 0
      },
      "text/plain": [
       "FloatProgress(value=0.0, bar_style='info', description='Progress:', layout=Layout(height='25px', width='50%'),…"
      ]
     },
     "metadata": {},
     "output_type": "display_data"
    }
   ],
   "source": [
    "# Features vs target\n",
    "x = ['post_hour', \n",
    "     'post_dayofweek', \n",
    "     'post_month', \n",
    "     'post_year',\n",
    "     'post_body_char_count',\n",
    "     'post_body_nocode_char_count',\n",
    "     'post_body_code_perc',\n",
    "     'post_body_code_flag',\n",
    "     'post_body_image_flag',\n",
    "     'post_body_link_flag',\n",
    "     'post_body_bold_flag',\n",
    "     'post_title_upper_flag',\n",
    "     'post_title_question_flag',\n",
    "     'post_title_char_count',\n",
    "     'post_tag_count', \n",
    "     'post_body_sentence_count', \n",
    "     'post_body_word_count', \n",
    "     'post_body_word_distinct_count', \n",
    "     'post_body_verb_perc', \n",
    "     'post_body_noun_perc', \n",
    "     'post_body_pronoun_perc', \n",
    "     'post_body_adjective_perc', \n",
    "     'post_body_adverb_perc', \n",
    "     'post_title_word_count', \n",
    "     'post_title_word_distinct_count', \n",
    "     'post_title_verb_perc', \n",
    "     'post_title_noun_perc', \n",
    "     'post_title_pronoun_perc', \n",
    "     'post_title_adjective_perc', \n",
    "     'post_title_adverb_perc', \n",
    "     'post_title_in_body_perc', \n",
    "     'tag_post_count_max', \n",
    "     'tag_post_count_30d_max', \n",
    "     'tag_post_count_365d_max',\n",
    "     'tag_age_days_max',\n",
    "     'tag_post_count_avg',\n",
    "     'tag_post_count_30d_avg',\n",
    "     'tag_post_count_365d_avg',\n",
    "     'tag_age_days_avg',\n",
    "     'user_age_days',\n",
    "     'user_website_flag',\n",
    "     'user_location_flag',\n",
    "     'user_about_me_flag',\n",
    "     'user_badge_count',\n",
    "     'user_badge_1_count',\n",
    "     'user_badge_2_count',\n",
    "     'user_badge_3_count', \n",
    "     'user_post_count',\n",
    "     'user_question_count',\n",
    "     'user_answer_count',\n",
    "     'user_first_post_flag',\n",
    "     'user_first_question_flag',\n",
    "     'user_answered_questions_count',\n",
    "     'user_accepted_answers_count',\n",
    "     'user_score',\n",
    "     'user_question_score',\n",
    "     'user_answer_score',\n",
    "     'android_stackexchange_com_flag',\n",
    "     'askubuntu_com_flag',\n",
    "     'cs_stackexchange_com_flag',\n",
    "     'datascience_stackexchange_com_flag',\n",
    "     'dba_stackexchange_com_flag',\n",
    "     'devops_stackexchange_com_flag',\n",
    "     'gamedev_stackexchange_com_flag',\n",
    "     'raspberrypi_stackexchange_com_flag',\n",
    "     'softwareengineering_stackexchange_com_flag',\n",
    "     'unix_stackexchange_com_flag'\n",
    "    ]"
   ]
  },
  {
   "cell_type": "code",
   "execution_count": 13,
   "metadata": {
    "scrolled": true
   },
   "outputs": [
    {
     "data": {
      "application/vnd.jupyter.widget-view+json": {
       "model_id": "009987cc8d3847068c1cfcc94ac60f99",
       "version_major": 2,
       "version_minor": 0
      },
      "text/plain": [
       "VBox()"
      ]
     },
     "metadata": {},
     "output_type": "display_data"
    },
    {
     "data": {
      "application/vnd.jupyter.widget-view+json": {
       "model_id": "",
       "version_major": 2,
       "version_minor": 0
      },
      "text/plain": [
       "FloatProgress(value=0.0, bar_style='info', description='Progress:', layout=Layout(height='25px', width='50%'),…"
      ]
     },
     "metadata": {},
     "output_type": "display_data"
    },
    {
     "name": "stdout",
     "output_type": "stream",
     "text": [
      "                                              1_mean    0_mean   diff\n",
      "y                                             1.0000    0.0000    inf\n",
      "softwareengineering_stackexchange_com_flag    0.0991    0.0544 0.8225\n",
      "user_accepted_answers_count                   6.3641    3.5798 0.7778\n",
      "gamedev_stackexchange_com_flag                0.0752    0.0471 0.5985\n",
      "user_question_score                          62.1691   39.2554 0.5837\n",
      "user_answered_questions_count                 8.6108    5.6087 0.5353\n",
      "android_stackexchange_com_flag                0.0336    0.0685 0.5094\n",
      "user_question_count                           9.3433    6.2663 0.4910\n",
      "dba_stackexchange_com_flag                    0.1240    0.0850 0.4596\n",
      "user_score                                  108.9991   75.6698 0.4405\n",
      "cs_stackexchange_com_flag                     0.0557    0.0392 0.4222\n",
      "unix_stackexchange_com_flag                   0.2691    0.1902 0.4152\n",
      "user_post_count                              17.9993   13.0568 0.3785\n",
      "askubuntu_com_flag                            0.2873    0.4407 0.3482\n",
      "user_badge_3_count                            6.9605    5.2021 0.3380\n",
      "user_about_me_flag                            0.4868    0.3673 0.3254\n",
      "user_badge_count                              9.1716    6.9728 0.3153\n",
      "post_title_question_flag                      0.4032    0.3080 0.3091\n",
      "user_location_flag                            0.4755    0.3682 0.2913\n",
      "user_answer_score                            46.7490   36.3450 0.2863\n",
      "user_website_flag                             0.3716    0.2889 0.2860\n",
      "raspberrypi_stackexchange_com_flag            0.0273    0.0379 0.2787\n",
      "user_answer_count                             8.3727    6.5666 0.2750\n",
      "user_badge_2_count                            1.8610    1.4853 0.2529\n",
      "user_first_post_flag                          0.4039    0.5352 0.2454\n",
      "devops_stackexchange_com_flag                 0.0034    0.0045 0.2386\n",
      "datascience_stackexchange_com_flag            0.0251    0.0326 0.2288\n",
      "user_first_question_flag                      0.4321    0.5592 0.2273\n",
      "user_badge_1_count                            0.3501    0.2854 0.2270\n",
      "post_body_code_flag                           0.5656    0.4765 0.1870\n",
      "tag_post_count_30d_max                      109.7240  132.1545 0.1697\n",
      "tag_post_count_30d_avg                       52.9103   61.8650 0.1447\n",
      "post_title_adverb_perc                        0.0210    0.0244 0.1373\n",
      "post_body_char_count                        895.0480 1022.6964 0.1248\n",
      "post_title_adjective_perc                     0.0562    0.0503 0.1173\n",
      "post_body_code_perc                           0.2021    0.1822 0.1090\n",
      "tag_post_count_365d_max                    1127.7315 1259.9728 0.1050\n",
      "post_body_image_flag                          0.0782    0.0865 0.0957\n",
      "post_body_link_flag                           0.2261    0.2490 0.0921\n",
      "tag_post_count_365d_avg                     557.4407  613.9596 0.0921\n",
      "post_body_word_distinct_count                36.3098   39.8431 0.0887\n",
      "post_body_sentence_count                      6.1066    6.6871 0.0868\n",
      "post_body_nocode_char_count                 565.9567  612.5025 0.0760\n",
      "tag_post_count_avg                         2123.5204 2288.1527 0.0719\n",
      "post_body_word_count                        100.8888  108.0430 0.0662\n",
      "tag_age_days_avg                           1796.7386 1918.7077 0.0636\n",
      "tag_post_count_max                         4185.2836 4452.1758 0.0599\n",
      "post_body_bold_flag                           0.1451    0.1369 0.0599\n",
      "user_age_days                               345.0490  325.9990 0.0584\n",
      "tag_age_days_max                           2026.9752 2147.5867 0.0562\n",
      "post_title_noun_perc                          0.4685    0.4948 0.0531\n",
      "post_title_pronoun_perc                       0.0204    0.0194 0.0494\n",
      "post_body_adjective_perc                      0.0515    0.0491 0.0491\n",
      "post_title_verb_perc                          0.1375    0.1317 0.0434\n",
      "post_body_noun_perc                           0.2732    0.2849 0.0408\n",
      "post_title_word_distinct_count                5.4582    5.6525 0.0344\n",
      "post_body_pronoun_perc                        0.0782    0.0807 0.0309\n",
      "post_title_in_body_perc                       0.6878    0.7020 0.0203\n",
      "post_body_adverb_perc                         0.0436    0.0445 0.0200\n",
      "post_title_word_count                         8.9178    8.7707 0.0168\n",
      "post_tag_count                                2.7092    2.7514 0.0154\n",
      "post_title_upper_flag                         0.8937    0.8833 0.0117\n",
      "post_hour                                    12.7776   12.6496 0.0101\n",
      "post_month                                    6.4643    6.5005 0.0056\n",
      "post_title_char_count                        52.9239   52.8085 0.0022\n",
      "post_dayofweek                                3.9909    3.9964 0.0014\n",
      "post_body_verb_perc                           0.1965    0.1963 0.0013\n",
      "post_year                                  2015.3565 2015.9481 0.0003"
     ]
    }
   ],
   "source": [
    "df_model = df.select(*x, y).withColumnRenamed(y, \"y\")\n",
    "\n",
    "x_mean_vs_y = \\\n",
    "df_model.groupBy(\"y\")\\\n",
    ".agg(*[f.mean(c).alias(c) for c in x])\\\n",
    ".toPandas().transpose()\n",
    "\n",
    "x_mean_vs_y.columns = [\"1_mean\", \"0_mean\"]\n",
    "x_mean_vs_y[\"diff\"] = np.abs(x_mean_vs_y[\"1_mean\"]/x_mean_vs_y[\"0_mean\"] -1)\n",
    "x_mean_vs_y.sort_values(by=\"diff\", ascending=False)"
   ]
  },
  {
   "cell_type": "markdown",
   "metadata": {},
   "source": [
    "### Correlation"
   ]
  },
  {
   "cell_type": "code",
   "execution_count": 11,
   "metadata": {},
   "outputs": [
    {
     "data": {
      "application/vnd.jupyter.widget-view+json": {
       "model_id": "420d720ac7364d9985eeb7f1d53dbea9",
       "version_major": 2,
       "version_minor": 0
      },
      "text/plain": [
       "VBox()"
      ]
     },
     "metadata": {},
     "output_type": "display_data"
    },
    {
     "data": {
      "application/vnd.jupyter.widget-view+json": {
       "model_id": "",
       "version_major": 2,
       "version_minor": 0
      },
      "text/plain": [
       "FloatProgress(value=0.0, bar_style='info', description='Progress:', layout=Layout(height='25px', width='50%'),…"
      ]
     },
     "metadata": {},
     "output_type": "display_data"
    }
   ],
   "source": [
    "assembler = VectorAssembler(inputCols=x, outputCol=\"features\")\n",
    "cor = Correlation.corr(assembler.transform(df_model).select(\"features\"), \"features\", \"spearman\")"
   ]
  },
  {
   "cell_type": "code",
   "execution_count": 12,
   "metadata": {},
   "outputs": [
    {
     "data": {
      "application/vnd.jupyter.widget-view+json": {
       "model_id": "e2e9193a07c1457bbfd43023dc02209f",
       "version_major": 2,
       "version_minor": 0
      },
      "text/plain": [
       "VBox()"
      ]
     },
     "metadata": {},
     "output_type": "display_data"
    },
    {
     "data": {
      "application/vnd.jupyter.widget-view+json": {
       "model_id": "",
       "version_major": 2,
       "version_minor": 0
      },
      "text/plain": [
       "FloatProgress(value=0.0, bar_style='info', description='Progress:', layout=Layout(height='25px', width='50%'),…"
      ]
     },
     "metadata": {},
     "output_type": "display_data"
    }
   ],
   "source": [
    "cor_df = pd.DataFrame(\n",
    "    pd.DataFrame(np.tril(cor.collect()[0][0].toArray()), columns=x, index=x).unstack().abs(),\n",
    ").reset_index()\n",
    "cor_df.columns = [\"x1\", \"x2\", \"cor\"]\n",
    "cor_df = cor_df.loc[cor_df[\"x1\"] != cor_df[\"x2\"]].set_index(\"x1\", \"x2\").sort_values(by=\"cor\", ascending=False)"
   ]
  },
  {
   "cell_type": "code",
   "execution_count": 13,
   "metadata": {},
   "outputs": [
    {
     "data": {
      "application/vnd.jupyter.widget-view+json": {
       "model_id": "f18a5042ec1f47bfa83794284d5673e4",
       "version_major": 2,
       "version_minor": 0
      },
      "text/plain": [
       "VBox()"
      ]
     },
     "metadata": {},
     "output_type": "display_data"
    },
    {
     "data": {
      "application/vnd.jupyter.widget-view+json": {
       "model_id": "",
       "version_major": 2,
       "version_minor": 0
      },
      "text/plain": [
       "FloatProgress(value=0.0, bar_style='info', description='Progress:', layout=Layout(height='25px', width='50%'),…"
      ]
     },
     "metadata": {},
     "output_type": "display_data"
    },
    {
     "name": "stdout",
     "output_type": "stream",
     "text": [
      "                                                          x2    cor\n",
      "x1                                                                 \n",
      "user_badge_count                          user_badge_3_count 0.9994\n",
      "post_body_nocode_char_count             post_body_word_count 0.9921\n",
      "user_question_count            user_answered_questions_count 0.9787\n",
      "tag_post_count_max                        tag_post_count_avg 0.9729\n",
      "post_body_nocode_char_count    post_body_word_distinct_count 0.9716\n",
      "tag_post_count_30d_max                tag_post_count_30d_avg 0.9682\n",
      "tag_post_count_365d_max              tag_post_count_365d_avg 0.9672\n",
      "post_body_word_count           post_body_word_distinct_count 0.9661\n",
      "tag_age_days_max                            tag_age_days_avg 0.9660\n",
      "user_post_count                          user_question_count 0.9610\n",
      "tag_post_count_30d_avg               tag_post_count_365d_avg 0.9610\n",
      "tag_post_count_30d_max               tag_post_count_365d_max 0.9604\n",
      "user_score                               user_question_score 0.9604\n",
      "user_first_post_flag                user_first_question_flag 0.9507\n",
      "user_post_count                user_answered_questions_count 0.9427\n",
      "user_question_count                 user_first_question_flag 0.9360\n",
      "tag_post_count_365d_max               tag_post_count_30d_avg 0.9309\n",
      "tag_post_count_30d_max               tag_post_count_365d_avg 0.9293\n",
      "user_post_count                         user_first_post_flag 0.9259\n",
      "post_body_code_perc                      post_body_code_flag 0.9250\n",
      "user_post_count                                   user_score 0.9151\n",
      "tag_post_count_max                   tag_post_count_365d_max 0.9131\n",
      "user_answered_questions_count    user_accepted_answers_count 0.9102\n",
      "user_question_count                      user_question_score 0.9094\n",
      "tag_post_count_avg                   tag_post_count_365d_avg 0.9090\n",
      "post_title_char_count                  post_title_word_count 0.9057\n",
      "user_answered_questions_count            user_question_score 0.9030\n",
      "user_badge_3_count                           user_post_count 0.9018\n",
      "user_first_question_flag       user_answered_questions_count 0.9010\n",
      "user_badge_count                             user_post_count 0.9010"
     ]
    }
   ],
   "source": [
    "cor_df.head(30)"
   ]
  },
  {
   "cell_type": "code",
   "execution_count": 14,
   "metadata": {},
   "outputs": [
    {
     "data": {
      "application/vnd.jupyter.widget-view+json": {
       "model_id": "a54aff9159ea425ab6c8642211616248",
       "version_major": 2,
       "version_minor": 0
      },
      "text/plain": [
       "VBox()"
      ]
     },
     "metadata": {},
     "output_type": "display_data"
    },
    {
     "data": {
      "application/vnd.jupyter.widget-view+json": {
       "model_id": "",
       "version_major": 2,
       "version_minor": 0
      },
      "text/plain": [
       "FloatProgress(value=0.0, bar_style='info', description='Progress:', layout=Layout(height='25px', width='50%'),…"
      ]
     },
     "metadata": {},
     "output_type": "display_data"
    }
   ],
   "source": [
    "x_drop = [\"user_badge_count\", \"post_body_word_count\", \"user_question_count\", \n",
    "          \"tag_post_count_max\", \"tag_post_count_30d_max\", \"tag_post_count_365d_max\", \"tag_age_days_max\"]\n",
    "\n",
    "df_model = df_model.drop(*x_drop)"
   ]
  },
  {
   "cell_type": "markdown",
   "metadata": {},
   "source": [
    "## Estimation"
   ]
  },
  {
   "cell_type": "code",
   "execution_count": 14,
   "metadata": {},
   "outputs": [
    {
     "data": {
      "application/vnd.jupyter.widget-view+json": {
       "model_id": "ca23778f668949928d8f919c5c27e7ae",
       "version_major": 2,
       "version_minor": 0
      },
      "text/plain": [
       "VBox()"
      ]
     },
     "metadata": {},
     "output_type": "display_data"
    },
    {
     "data": {
      "application/vnd.jupyter.widget-view+json": {
       "model_id": "",
       "version_major": 2,
       "version_minor": 0
      },
      "text/plain": [
       "FloatProgress(value=0.0, bar_style='info', description='Progress:', layout=Layout(height='25px', width='50%'),…"
      ]
     },
     "metadata": {},
     "output_type": "display_data"
    },
    {
     "name": "stdout",
     "output_type": "stream",
     "text": [
      "837893 586731 251162\n",
      "+-------------------+\n",
      "|             avg(y)|\n",
      "+-------------------+\n",
      "|0.28840985051071105|\n",
      "+-------------------+\n",
      "\n",
      "+------------------+\n",
      "|            avg(y)|\n",
      "+------------------+\n",
      "|0.2882920186970959|\n",
      "+------------------+"
     ]
    }
   ],
   "source": [
    "train, test = df_model.randomSplit([0.7, 0.3], seed=1)\n",
    "print(df.count(), train.count(), test.count())\n",
    "\n",
    "train.select(f.mean(\"y\")).show()\n",
    "test.select(f.mean(\"y\")).show()"
   ]
  },
  {
   "cell_type": "code",
   "execution_count": 16,
   "metadata": {
    "scrolled": false
   },
   "outputs": [
    {
     "data": {
      "application/vnd.jupyter.widget-view+json": {
       "model_id": "6a51b08536384081a27adafba2950d14",
       "version_major": 2,
       "version_minor": 0
      },
      "text/plain": [
       "VBox()"
      ]
     },
     "metadata": {},
     "output_type": "display_data"
    },
    {
     "data": {
      "application/vnd.jupyter.widget-view+json": {
       "model_id": "",
       "version_major": 2,
       "version_minor": 0
      },
      "text/plain": [
       "FloatProgress(value=0.0, bar_style='info', description='Progress:', layout=Layout(height='25px', width='50%'),…"
      ]
     },
     "metadata": {},
     "output_type": "display_data"
    },
    {
     "name": "stdout",
     "output_type": "stream",
     "text": [
      "Accuracy: 0.7217294017407092\n",
      "ROC AUC: 0.7018145260428025\n",
      "PR AUC: 0.467546482439563\n",
      "\n",
      "Confusion matrix:\n",
      " [[0.67914334 0.03256464]\n",
      " [0.24570596 0.04258606]]\n",
      "\n",
      "Feature importance\n",
      "                                                0\n",
      "post_year                                  0.1270\n",
      "post_body_code_perc                        0.0854\n",
      "user_accepted_answers_count                0.0758\n",
      "post_body_noun_perc                        0.0613\n",
      "user_question_count                        0.0471\n",
      "post_body_word_distinct_count              0.0448\n",
      "askubuntu_com_flag                         0.0416\n",
      "post_title_question_flag                   0.0397\n",
      "user_age_days                              0.0373\n",
      "post_body_char_count                       0.0304\n",
      "tag_post_count_365d_avg                    0.0299\n",
      "softwareengineering_stackexchange_com_flag 0.0298\n",
      "cs_stackexchange_com_flag                  0.0293\n",
      "post_title_noun_perc                       0.0234\n",
      "user_location_flag                         0.0231\n",
      "dba_stackexchange_com_flag                 0.0225\n",
      "tag_post_count_30d_max                     0.0218\n",
      "gamedev_stackexchange_com_flag             0.0217\n",
      "tag_post_count_30d_avg                     0.0215\n",
      "user_answered_questions_count              0.0198\n",
      "raspberrypi_stackexchange_com_flag         0.0179\n",
      "post_title_word_distinct_count             0.0150\n",
      "user_about_me_flag                         0.0118\n",
      "android_stackexchange_com_flag             0.0112\n",
      "user_post_count                            0.0093\n",
      "unix_stackexchange_com_flag                0.0089\n",
      "post_body_sentence_count                   0.0087\n",
      "user_badge_3_count                         0.0085\n",
      "post_body_pronoun_perc                     0.0081\n",
      "tag_post_count_avg                         0.0079\n",
      "tag_age_days_avg                           0.0064\n",
      "datascience_stackexchange_com_flag         0.0058\n",
      "post_title_adverb_perc                     0.0051\n",
      "tag_age_days_max                           0.0038\n",
      "post_body_link_flag                        0.0033\n",
      "post_hour                                  0.0029\n",
      "post_tag_count                             0.0026\n",
      "user_question_score                        0.0026\n",
      "post_body_bold_flag                        0.0026\n",
      "post_body_verb_perc                        0.0023\n",
      "user_answer_count                          0.0023\n",
      "post_body_adjective_perc                   0.0021\n",
      "tag_post_count_365d_max                    0.0019\n",
      "user_first_question_flag                   0.0018\n",
      "user_badge_2_count                         0.0016\n",
      "post_title_in_body_perc                    0.0016\n",
      "post_title_word_count                      0.0013\n",
      "user_answer_score                          0.0012\n",
      "post_body_code_flag                        0.0011\n",
      "user_badge_count                           0.0011\n",
      "tag_post_count_max                         0.0010\n",
      "post_title_adjective_perc                  0.0008\n",
      "post_month                                 0.0008\n",
      "post_body_nocode_char_count                0.0006\n",
      "post_body_image_flag                       0.0005\n",
      "user_score                                 0.0005\n",
      "post_body_word_count                       0.0005\n",
      "post_title_pronoun_perc                    0.0004\n",
      "post_body_adverb_perc                      0.0004\n",
      "post_title_char_count                      0.0003\n",
      "user_badge_1_count                         0.0001\n",
      "devops_stackexchange_com_flag              0.0000\n",
      "user_website_flag                          0.0000\n",
      "post_title_upper_flag                      0.0000\n",
      "user_first_post_flag                       0.0000\n",
      "post_title_verb_perc                       0.0000\n",
      "post_dayofweek                             0.0000"
     ]
    }
   ],
   "source": [
    "# Baseline model\n",
    "indexer = StringIndexer(inputCol=\"y\", outputCol='label')\n",
    "vec_assembler = VectorAssembler(inputCols=df_model.drop(\"y\").columns, outputCol=\"features\")\n",
    "gbt = GBTClassifier(seed=1)\n",
    "pipeline = Pipeline(stages=[indexer, vec_assembler, gbt])\n",
    "\n",
    "model_base = pipeline.fit(train)\n",
    "prediction = model_base.transform(test)\n",
    "\n",
    "evaluator = MulticlassClassificationEvaluator(metricName=\"accuracy\")\n",
    "print(\"Accuracy:\", evaluator.evaluate(prediction))\n",
    "\n",
    "evaluator = BinaryClassificationEvaluator(metricName=\"areaUnderROC\")\n",
    "print(\"ROC AUC:\", evaluator.evaluate(prediction))\n",
    "\n",
    "evaluator = BinaryClassificationEvaluator(metricName=\"areaUnderPR\")\n",
    "print(\"PR AUC:\", evaluator.evaluate(prediction))\n",
    "\n",
    "metrics = MulticlassMetrics(prediction.select(\"prediction\", \"label\").rdd.map(tuple))\n",
    "print(\"\\nConfusion matrix:\\n\", metrics.confusionMatrix().toArray()/test.count())\n",
    "\n",
    "print(\"\\nFeature importance\")\n",
    "pd.DataFrame(model_base.stages[2].featureImportances.toArray(), index=df_model.drop(\"y\").columns)\\\n",
    ".sort_values(0, ascending=False)"
   ]
  },
  {
   "cell_type": "code",
   "execution_count": 30,
   "metadata": {},
   "outputs": [
    {
     "data": {
      "application/vnd.jupyter.widget-view+json": {
       "model_id": "d259d3ceee81422593b07c882aff6126",
       "version_major": 2,
       "version_minor": 0
      },
      "text/plain": [
       "VBox()"
      ]
     },
     "metadata": {},
     "output_type": "display_data"
    },
    {
     "data": {
      "application/vnd.jupyter.widget-view+json": {
       "model_id": "",
       "version_major": 2,
       "version_minor": 0
      },
      "text/plain": [
       "FloatProgress(value=0.0, bar_style='info', description='Progress:', layout=Layout(height='25px', width='50%'),…"
      ]
     },
     "metadata": {},
     "output_type": "display_data"
    },
    {
     "name": "stdout",
     "output_type": "stream",
     "text": [
      "{Param(parent='GBTClassifier_f0229ee53107', name='seed', doc='random seed'): 1,\n",
      " Param(parent='GBTClassifier_f0229ee53107', name='minInfoGain', doc='Minimum information gain for a split to be considered at a tree node.'): 0.0,\n",
      " Param(parent='GBTClassifier_f0229ee53107', name='minInstancesPerNode', doc='Minimum number of instances each child must have after split.  If a split causes the left or right child to have fewer than minInstancesPerNode, the split will be discarded as invalid. Must be at least 1.'): 1,\n",
      " Param(parent='GBTClassifier_f0229ee53107', name='predictionCol', doc='prediction column name'): 'prediction',\n",
      " Param(parent='GBTClassifier_f0229ee53107', name='stepSize', doc='Step size (a.k.a. learning rate) in interval (0, 1] for shrinking the contribution of each estimator.'): 0.1,\n",
      " Param(parent='GBTClassifier_f0229ee53107', name='subsamplingRate', doc='Fraction of the training data used for learning each decision tree, in range (0, 1].'): 1.0,\n",
      " Param(parent='GBTClassifier_f0229ee53107', name='checkpointInterval', doc='set checkpoint interval (>= 1) or disable checkpoint (-1). E.g. 10 means that the cache will get checkpointed every 10 iterations. Note: this setting will be ignored if the checkpoint directory is not set in the SparkContext'): 10,\n",
      " Param(parent='GBTClassifier_f0229ee53107', name='cacheNodeIds', doc='If false, the algorithm will pass trees to executors to match instances with nodes. If true, the algorithm will cache node IDs for each instance. Caching can speed up training of deeper trees.'): False,\n",
      " Param(parent='GBTClassifier_f0229ee53107', name='maxDepth', doc='Maximum depth of the tree. (Nonnegative) E.g., depth 0 means 1 leaf node; depth 1 means 1 internal node + 2 leaf nodes.'): 5,\n",
      " Param(parent='GBTClassifier_f0229ee53107', name='maxIter', doc='maximum number of iterations (>= 0)'): 20,\n",
      " Param(parent='GBTClassifier_f0229ee53107', name='maxMemoryInMB', doc='Maximum memory in MB allocated to histogram aggregation.'): 256,\n",
      " Param(parent='GBTClassifier_f0229ee53107', name='lossType', doc='Loss function which GBT tries to minimize (case-insensitive). Supported options: logistic'): 'logistic',\n",
      " Param(parent='GBTClassifier_f0229ee53107', name='labelCol', doc='label column name'): 'label',\n",
      " Param(parent='GBTClassifier_f0229ee53107', name='maxBins', doc='Max number of bins for discretizing continuous features.  Must be at least 2 and at least number of categories for any categorical feature.'): 32,\n",
      " Param(parent='GBTClassifier_f0229ee53107', name='featuresCol', doc='features column name'): 'features',\n",
      " Param(parent='GBTClassifier_f0229ee53107', name='featureSubsetStrategy', doc='The number of features to consider for splits at each tree node. Supported options: auto, all, onethird, sqrt, log2, (0.0-1.0], [1-n].'): 'all'}"
     ]
    }
   ],
   "source": [
    "# Model parameters\n",
    "pprint(model_base.stages[2].extractParamMap())"
   ]
  },
  {
   "cell_type": "code",
   "execution_count": 22,
   "metadata": {},
   "outputs": [
    {
     "data": {
      "application/vnd.jupyter.widget-view+json": {
       "model_id": "02b9a47ef100476dbe8d40cdc0bae73c",
       "version_major": 2,
       "version_minor": 0
      },
      "text/plain": [
       "VBox()"
      ]
     },
     "metadata": {},
     "output_type": "display_data"
    },
    {
     "data": {
      "application/vnd.jupyter.widget-view+json": {
       "model_id": "",
       "version_major": 2,
       "version_minor": 0
      },
      "text/plain": [
       "FloatProgress(value=0.0, bar_style='info', description='Progress:', layout=Layout(height='25px', width='50%'),…"
      ]
     },
     "metadata": {},
     "output_type": "display_data"
    }
   ],
   "source": [
    "# Save model\n",
    "model_base.write().overwrite().save(f\"s3://{bucket_name}/sparkmodel_base\")"
   ]
  },
  {
   "cell_type": "markdown",
   "metadata": {},
   "source": [
    "## Tuning"
   ]
  },
  {
   "cell_type": "code",
   "execution_count": null,
   "metadata": {},
   "outputs": [
    {
     "data": {
      "application/vnd.jupyter.widget-view+json": {
       "model_id": "75e79e5fd6694cd1a7a4948c10d01f3a",
       "version_major": 2,
       "version_minor": 0
      },
      "text/plain": [
       "VBox()"
      ]
     },
     "metadata": {},
     "output_type": "display_data"
    },
    {
     "data": {
      "application/vnd.jupyter.widget-view+json": {
       "model_id": "061e219106b94d408d47c762de184ba8",
       "version_major": 2,
       "version_minor": 0
      },
      "text/plain": [
       "FloatProgress(value=0.0, bar_style='info', description='Progress:', layout=Layout(height='25px', width='50%'),…"
      ]
     },
     "metadata": {},
     "output_type": "display_data"
    },
    {
     "name": "stderr",
     "output_type": "stream",
     "text": [
      "Exception in thread cell_monitor-25:\n",
      "Traceback (most recent call last):\n",
      "  File \"/mnt/notebook-env/lib/python3.7/threading.py\", line 926, in _bootstrap_inner\n",
      "    self.run()\n",
      "  File \"/mnt/notebook-env/lib/python3.7/threading.py\", line 870, in run\n",
      "    self._target(*self._args, **self._kwargs)\n",
      "  File \"/mnt/notebook-env/lib/python3.7/site-packages/awseditorssparkmonitoringwidget-1.0-py3.7.egg/awseditorssparkmonitoringwidget/cellmonitor.py\", line 178, in cell_monitor\n",
      "    job_binned_stages[job_id][stage_id] = all_stages[stage_id]\n",
      "KeyError: 997\n",
      "\n"
     ]
    }
   ],
   "source": [
    "# Grid search\n",
    "paramGrid = ParamGridBuilder() \\\n",
    ".addGrid(gbt.stepSize, [0.05, 0.1, 0.15])\\\n",
    ".addGrid(gbt.maxDepth, [5, 8, 10])\\\n",
    ".addGrid(gbt.minInstancesPerNode, [10, 50, 100])\\\n",
    ".build()\n",
    "\n",
    "crossval = CrossValidator(estimator=pipeline,\n",
    "                          estimatorParamMaps=paramGrid,\n",
    "                          evaluator=BinaryClassificationEvaluator(metricName=\"areaUnderPR\"),\n",
    "                          numFolds=5,\n",
    "                         seed=1)\n",
    "\n",
    "cv_model = crossval.fit(train)\n",
    "prediction = cv_model.transform(test)"
   ]
  },
  {
   "cell_type": "code",
   "execution_count": 36,
   "metadata": {},
   "outputs": [
    {
     "data": {
      "application/vnd.jupyter.widget-view+json": {
       "model_id": "47ae721c377f4d92ab6351b1779d5cac",
       "version_major": 2,
       "version_minor": 0
      },
      "text/plain": [
       "VBox()"
      ]
     },
     "metadata": {},
     "output_type": "display_data"
    },
    {
     "data": {
      "application/vnd.jupyter.widget-view+json": {
       "model_id": "",
       "version_major": 2,
       "version_minor": 0
      },
      "text/plain": [
       "FloatProgress(value=0.0, bar_style='info', description='Progress:', layout=Layout(height='25px', width='50%'),…"
      ]
     },
     "metadata": {},
     "output_type": "display_data"
    }
   ],
   "source": [
    "model = cv_model.bestModel"
   ]
  },
  {
   "cell_type": "code",
   "execution_count": 37,
   "metadata": {
    "scrolled": true
   },
   "outputs": [
    {
     "data": {
      "application/vnd.jupyter.widget-view+json": {
       "model_id": "b2b1560469af45c8ac2c1f86f6157572",
       "version_major": 2,
       "version_minor": 0
      },
      "text/plain": [
       "VBox()"
      ]
     },
     "metadata": {},
     "output_type": "display_data"
    },
    {
     "data": {
      "application/vnd.jupyter.widget-view+json": {
       "model_id": "",
       "version_major": 2,
       "version_minor": 0
      },
      "text/plain": [
       "FloatProgress(value=0.0, bar_style='info', description='Progress:', layout=Layout(height='25px', width='50%'),…"
      ]
     },
     "metadata": {},
     "output_type": "display_data"
    },
    {
     "name": "stdout",
     "output_type": "stream",
     "text": [
      "PR AUC: 0.5313153155713395\n",
      "ROC AUC: 0.7078866009001024\n",
      "Accuracy: 0.7250738567139934\n",
      "\n",
      "Confusion matrix:\n",
      " [[0.65765124 0.05405674]\n",
      " [0.2208694  0.06742262]]\n",
      "\n",
      "Feature importance\n",
      "                                                0\n",
      "user_accepted_answers_count                0.0569\n",
      "post_body_noun_perc                        0.0393\n",
      "user_age_days                              0.0389\n",
      "post_year                                  0.0385\n",
      "user_answered_questions_count              0.0369\n",
      "post_body_verb_perc                        0.0344\n",
      "tag_age_days_avg                           0.0342\n",
      "post_body_code_perc                        0.0325\n",
      "post_body_pronoun_perc                     0.0303\n",
      "post_body_word_distinct_count              0.0294\n",
      "post_hour                                  0.0280\n",
      "post_body_adjective_perc                   0.0273\n",
      "tag_post_count_30d_avg                     0.0267\n",
      "post_title_noun_perc                       0.0245\n",
      "tag_post_count_365d_avg                    0.0243\n",
      "post_body_adverb_perc                      0.0232\n",
      "user_badge_3_count                         0.0226\n",
      "post_body_char_count                       0.0225\n",
      "post_month                                 0.0224\n",
      "post_title_char_count                      0.0211\n",
      "user_post_count                            0.0210\n",
      "tag_post_count_avg                         0.0204\n",
      "askubuntu_com_flag                         0.0204\n",
      "post_title_word_distinct_count             0.0202\n",
      "post_title_in_body_perc                    0.0192\n",
      "post_title_verb_perc                       0.0189\n",
      "post_body_sentence_count                   0.0179\n",
      "post_body_nocode_char_count                0.0178\n",
      "post_title_word_count                      0.0151\n",
      "post_tag_count                             0.0147\n",
      "post_title_question_flag                   0.0140\n",
      "user_question_score                        0.0135\n",
      "post_title_adjective_perc                  0.0134\n",
      "post_dayofweek                             0.0113\n",
      "user_about_me_flag                         0.0104\n",
      "user_answer_count                          0.0101\n",
      "cs_stackexchange_com_flag                  0.0098\n",
      "user_score                                 0.0095\n",
      "post_title_adverb_perc                     0.0093\n",
      "unix_stackexchange_com_flag                0.0087\n",
      "softwareengineering_stackexchange_com_flag 0.0083\n",
      "user_answer_score                          0.0082\n",
      "android_stackexchange_com_flag             0.0079\n",
      "user_location_flag                         0.0077\n",
      "post_title_pronoun_perc                    0.0068\n",
      "gamedev_stackexchange_com_flag             0.0068\n",
      "dba_stackexchange_com_flag                 0.0062\n",
      "post_body_link_flag                        0.0057\n",
      "user_badge_2_count                         0.0055\n",
      "post_body_bold_flag                        0.0054\n",
      "user_website_flag                          0.0041\n",
      "user_badge_1_count                         0.0038\n",
      "user_first_question_flag                   0.0033\n",
      "post_body_image_flag                       0.0033\n",
      "datascience_stackexchange_com_flag         0.0028\n",
      "post_title_upper_flag                      0.0024\n",
      "raspberrypi_stackexchange_com_flag         0.0017\n",
      "user_first_post_flag                       0.0006\n",
      "post_body_code_flag                        0.0004\n",
      "devops_stackexchange_com_flag              0.0000"
     ]
    }
   ],
   "source": [
    "print(\"PR AUC:\", crossval.getEvaluator().evaluate(prediction))\n",
    "print(\"ROC AUC:\", BinaryClassificationEvaluator(metricName=\"areaUnderROC\").evaluate(prediction))\n",
    "print(\"Accuracy:\", MulticlassClassificationEvaluator(metricName=\"accuracy\").evaluate(prediction))\n",
    "\n",
    "metrics = MulticlassMetrics(prediction.select(\"prediction\", \"label\").rdd.map(tuple))\n",
    "print(\"\\nConfusion matrix:\\n\", metrics.confusionMatrix().toArray()/test.count())\n",
    "\n",
    "print(\"\\nFeature importance\")\n",
    "pd.DataFrame(model.stages[2].featureImportances.toArray(), index=df_model.drop(\"y\").columns)\\\n",
    ".sort_values(0, ascending=False)"
   ]
  },
  {
   "cell_type": "markdown",
   "metadata": {},
   "source": [
    "## Save model"
   ]
  },
  {
   "cell_type": "code",
   "execution_count": 38,
   "metadata": {},
   "outputs": [
    {
     "data": {
      "application/vnd.jupyter.widget-view+json": {
       "model_id": "359842ca9d894204b098d3d0bf7d0b11",
       "version_major": 2,
       "version_minor": 0
      },
      "text/plain": [
       "VBox()"
      ]
     },
     "metadata": {},
     "output_type": "display_data"
    },
    {
     "data": {
      "application/vnd.jupyter.widget-view+json": {
       "model_id": "",
       "version_major": 2,
       "version_minor": 0
      },
      "text/plain": [
       "FloatProgress(value=0.0, bar_style='info', description='Progress:', layout=Layout(height='25px', width='50%'),…"
      ]
     },
     "metadata": {},
     "output_type": "display_data"
    }
   ],
   "source": [
    "# Save model\n",
    "SimpleSparkSerializer().serializeToBundle(model, \"jar:file:/tmp/model.zip\", prediction)\n",
    "with zipfile.ZipFile(\"/tmp/model.zip\") as zf:\n",
    "    zf.extractall(\"/tmp/model\")\n",
    "with tarfile.open(\"/tmp/model.tar.gz\", \"w:gz\") as tar:\n",
    "    tar.add(\"/tmp/model/bundle.json\", arcname='bundle.json')\n",
    "    tar.add(\"/tmp/model/root\", arcname='root')\n",
    "    \n",
    "# upload to S3\n",
    "# MLeap format\n",
    "s3 = boto3.resource('s3') \n",
    "s3.Bucket(bucket_name).upload_file('/tmp/model.tar.gz', \"model.tar.gz\")\n",
    "\n",
    "# Spark format\n",
    "model.write().overwrite().save(f\"s3://{bucket_name}/sparkmodel\")"
   ]
  },
  {
   "cell_type": "markdown",
   "metadata": {},
   "source": [
    "## Load model"
   ]
  },
  {
   "cell_type": "code",
   "execution_count": 23,
   "metadata": {},
   "outputs": [
    {
     "data": {
      "application/vnd.jupyter.widget-view+json": {
       "model_id": "02f2df7acd2342ae82ba8469899fee2c",
       "version_major": 2,
       "version_minor": 0
      },
      "text/plain": [
       "VBox()"
      ]
     },
     "metadata": {},
     "output_type": "display_data"
    },
    {
     "data": {
      "application/vnd.jupyter.widget-view+json": {
       "model_id": "",
       "version_major": 2,
       "version_minor": 0
      },
      "text/plain": [
       "FloatProgress(value=0.0, bar_style='info', description='Progress:', layout=Layout(height='25px', width='50%'),…"
      ]
     },
     "metadata": {},
     "output_type": "display_data"
    },
    {
     "name": "stdout",
     "output_type": "stream",
     "text": [
      "PipelineModel_9fffa315d506"
     ]
    }
   ],
   "source": [
    "model = PipelineModel.load(f\"s3://{bucket_name}/sparkmodel\")\n",
    "model"
   ]
  },
  {
   "cell_type": "code",
   "execution_count": 24,
   "metadata": {},
   "outputs": [
    {
     "data": {
      "application/vnd.jupyter.widget-view+json": {
       "model_id": "d6597fbd82524f9fb934fd07311e7262",
       "version_major": 2,
       "version_minor": 0
      },
      "text/plain": [
       "VBox()"
      ]
     },
     "metadata": {},
     "output_type": "display_data"
    },
    {
     "data": {
      "application/vnd.jupyter.widget-view+json": {
       "model_id": "",
       "version_major": 2,
       "version_minor": 0
      },
      "text/plain": [
       "FloatProgress(value=0.0, bar_style='info', description='Progress:', layout=Layout(height='25px', width='50%'),…"
      ]
     },
     "metadata": {},
     "output_type": "display_data"
    },
    {
     "name": "stdout",
     "output_type": "stream",
     "text": [
      "{Param(parent='GBTClassifier_123a205e0de6', name='subsamplingRate', doc='Fraction of the training data used for learning each decision tree, in range (0, 1].'): 1.0,\n",
      " Param(parent='GBTClassifier_123a205e0de6', name='validationTol', doc='Threshold for stopping early when fit with validation is used.If the error rate on the validation input changes by less than the validationTol,then learning will stop early (before `maxIter`).This parameter is ignored when fit without validation is used.'): 0.01,\n",
      " Param(parent='GBTClassifier_123a205e0de6', name='stepSize', doc='Step size (a.k.a. learning rate) in interval (0, 1] for shrinking the contribution of each estimator.'): 0.15,\n",
      " Param(parent='GBTClassifier_123a205e0de6', name='probabilityCol', doc='Column name for predicted class conditional probabilities. Note: Not all models output well-calibrated probability estimates! These probabilities should be treated as confidences, not precise probabilities'): 'probability',\n",
      " Param(parent='GBTClassifier_123a205e0de6', name='maxIter', doc='maximum number of iterations (>= 0)'): 20,\n",
      " Param(parent='GBTClassifier_123a205e0de6', name='maxBins', doc='Max number of bins for discretizing continuous features.  Must be at least 2 and at least number of categories for any categorical feature.'): 32,\n",
      " Param(parent='GBTClassifier_123a205e0de6', name='minInfoGain', doc='Minimum information gain for a split to be considered at a tree node.'): 0.0,\n",
      " Param(parent='GBTClassifier_123a205e0de6', name='predictionCol', doc='prediction column name'): 'prediction',\n",
      " Param(parent='GBTClassifier_123a205e0de6', name='maxMemoryInMB', doc='Maximum memory in MB allocated to histogram aggregation.'): 256,\n",
      " Param(parent='GBTClassifier_123a205e0de6', name='minInstancesPerNode', doc='Minimum number of instances each child must have after split.  If a split causes the left or right child to have fewer than minInstancesPerNode, the split will be discarded as invalid. Must be at least 1.'): 100,\n",
      " Param(parent='GBTClassifier_123a205e0de6', name='rawPredictionCol', doc='raw prediction (a.k.a. confidence) column name'): 'rawPrediction',\n",
      " Param(parent='GBTClassifier_123a205e0de6', name='maxDepth', doc='Maximum depth of the tree. (Nonnegative) E.g., depth 0 means 1 leaf node; depth 1 means 1 internal node + 2 leaf nodes.'): 10,\n",
      " Param(parent='GBTClassifier_123a205e0de6', name='cacheNodeIds', doc='If false, the algorithm will pass trees to executors to match instances with nodes. If true, the algorithm will cache node IDs for each instance. Caching can speed up training of deeper trees.'): False,\n",
      " Param(parent='GBTClassifier_123a205e0de6', name='featureSubsetStrategy', doc='The number of features to consider for splits at each tree node. Supported options: auto, all, onethird, sqrt, log2, (0.0-1.0], [1-n].'): 'all',\n",
      " Param(parent='GBTClassifier_123a205e0de6', name='checkpointInterval', doc='set checkpoint interval (>= 1) or disable checkpoint (-1). E.g. 10 means that the cache will get checkpointed every 10 iterations. Note: this setting will be ignored if the checkpoint directory is not set in the SparkContext'): 10,\n",
      " Param(parent='GBTClassifier_123a205e0de6', name='lossType', doc='Loss function which GBT tries to minimize (case-insensitive). Supported options: logistic'): 'logistic',\n",
      " Param(parent='GBTClassifier_123a205e0de6', name='labelCol', doc='label column name'): 'label',\n",
      " Param(parent='GBTClassifier_123a205e0de6', name='featuresCol', doc='features column name'): 'features',\n",
      " Param(parent='GBTClassifier_123a205e0de6', name='impurity', doc='Criterion used for information gain calculation (case-insensitive). Supported options: entropy, gini'): 'gini',\n",
      " Param(parent='GBTClassifier_123a205e0de6', name='seed', doc='random seed'): 1}"
     ]
    }
   ],
   "source": [
    "# Model parameters\n",
    "pprint(model.stages[2].extractParamMap())"
   ]
  }
 ],
 "metadata": {
  "kernelspec": {
   "display_name": "PySpark",
   "language": "",
   "name": "pysparkkernel"
  },
  "language_info": {
   "codemirror_mode": {
    "name": "python",
    "version": 3
   },
   "mimetype": "text/x-python",
   "name": "pyspark",
   "pygments_lexer": "python3"
  }
 },
 "nbformat": 4,
 "nbformat_minor": 4
}
