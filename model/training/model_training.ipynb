{
 "cells": [
  {
   "cell_type": "markdown",
   "metadata": {},
   "source": [
    "# Model training"
   ]
  },
  {
   "cell_type": "code",
   "execution_count": 1,
   "metadata": {},
   "outputs": [
    {
     "data": {
      "text/html": [
       "Current session configs: <tt>{'conf': {'spark.pyspark.python': 'python3', 'spark.pyspark.virtualenv.enabled': 'true', 'spark.pyspark.virtualenv.type': 'native', 'spark.pyspark.virtualenv.bin.path': '/usr/bin/virtualenv', 'spark.jars.packages': 'ml.combust.mleap:mleap-spark_2.11:0.16.0'}, 'kind': 'pyspark'}</tt><br>"
      ],
      "text/plain": [
       "<IPython.core.display.HTML object>"
      ]
     },
     "metadata": {},
     "output_type": "display_data"
    },
    {
     "data": {
      "text/html": [
       "No active sessions."
      ],
      "text/plain": [
       "<IPython.core.display.HTML object>"
      ]
     },
     "metadata": {},
     "output_type": "display_data"
    }
   ],
   "source": [
    "%%configure -f\n",
    "{\n",
    "   \"conf\":{\n",
    "      \"spark.pyspark.python\":\"python3\",\n",
    "      \"spark.pyspark.virtualenv.enabled\":\"true\",\n",
    "      \"spark.pyspark.virtualenv.type\":\"native\",\n",
    "      \"spark.pyspark.virtualenv.bin.path\":\"/usr/bin/virtualenv\",\n",
    "      \"spark.jars.packages\":\"ml.combust.mleap:mleap-spark_2.11:0.16.0\"\n",
    "   }\n",
    "}"
   ]
  },
  {
   "cell_type": "code",
   "execution_count": 2,
   "metadata": {
    "scrolled": true
   },
   "outputs": [
    {
     "data": {
      "application/vnd.jupyter.widget-view+json": {
       "model_id": "ade4c7f82e50475cab65c3adfbef76c4",
       "version_major": 2,
       "version_minor": 0
      },
      "text/plain": [
       "VBox()"
      ]
     },
     "metadata": {},
     "output_type": "display_data"
    },
    {
     "name": "stdout",
     "output_type": "stream",
     "text": [
      "Starting Spark application\n"
     ]
    },
    {
     "data": {
      "text/html": [
       "<table>\n",
       "<tr><th>ID</th><th>YARN Application ID</th><th>Kind</th><th>State</th><th>Spark UI</th><th>Driver log</th><th>Current session?</th></tr><tr><td>5</td><td>application_1611343167448_0006</td><td>pyspark</td><td>idle</td><td><a target=\"_blank\" href=\"http://ip-172-31-18-131.ec2.internal:20888/proxy/application_1611343167448_0006/\" >Link</a></td><td><a target=\"_blank\" href=\"http://ip-172-31-21-101.ec2.internal:8042/node/containerlogs/container_1611343167448_0006_01_000001/livy\" >Link</a></td><td>✔</td></tr></table>"
      ],
      "text/plain": [
       "<IPython.core.display.HTML object>"
      ]
     },
     "metadata": {},
     "output_type": "display_data"
    },
    {
     "data": {
      "application/vnd.jupyter.widget-view+json": {
       "model_id": "",
       "version_major": 2,
       "version_minor": 0
      },
      "text/plain": [
       "FloatProgress(value=0.0, bar_style='info', description='Progress:', layout=Layout(height='25px', width='50%'),…"
      ]
     },
     "metadata": {},
     "output_type": "display_data"
    },
    {
     "name": "stdout",
     "output_type": "stream",
     "text": [
      "SparkSession available as 'spark'.\n"
     ]
    },
    {
     "data": {
      "application/vnd.jupyter.widget-view+json": {
       "model_id": "",
       "version_major": 2,
       "version_minor": 0
      },
      "text/plain": [
       "FloatProgress(value=0.0, bar_style='info', description='Progress:', layout=Layout(height='25px', width='50%'),…"
      ]
     },
     "metadata": {},
     "output_type": "display_data"
    },
    {
     "name": "stdout",
     "output_type": "stream",
     "text": [
      "Requirement already satisfied: pyarrow==0.14 in /usr/local/lib64/python3.7/site-packages\n",
      "Requirement already satisfied: numpy>=1.14 in /usr/local/lib64/python3.7/site-packages (from pyarrow==0.14)\n",
      "Requirement already satisfied: six>=1.0.0 in /usr/local/lib/python3.7/site-packages (from pyarrow==0.14)\n",
      "\n",
      "Requirement already satisfied: pandas==1.2.0 in /usr/local/lib64/python3.7/site-packages\n",
      "Requirement already satisfied: numpy>=1.16.5 in /usr/local/lib64/python3.7/site-packages (from pandas==1.2.0)\n",
      "Requirement already satisfied: pytz>=2017.3 in /usr/local/lib/python3.7/site-packages (from pandas==1.2.0)\n",
      "Requirement already satisfied: python-dateutil>=2.7.3 in /usr/local/lib/python3.7/site-packages (from pandas==1.2.0)\n",
      "Requirement already satisfied: six>=1.5 in /usr/local/lib/python3.7/site-packages (from python-dateutil>=2.7.3->pandas==1.2.0)\n",
      "\n",
      "Collecting matplotlib\n",
      "  Using cached https://files.pythonhosted.org/packages/30/f2/10c822cb0ca5ebec58bd1892187bc3e3db64a867ac26531c6204663fc218/matplotlib-3.3.3-cp37-cp37m-manylinux1_x86_64.whl\n",
      "Requirement already satisfied: numpy>=1.15 in /usr/local/lib64/python3.7/site-packages (from matplotlib)\n",
      "Requirement already satisfied: python-dateutil>=2.1 in /usr/local/lib/python3.7/site-packages (from matplotlib)\n",
      "Collecting pyparsing!=2.0.4,!=2.1.2,!=2.1.6,>=2.0.3 (from matplotlib)\n",
      "  Using cached https://files.pythonhosted.org/packages/8a/bb/488841f56197b13700afd5658fc279a2025a39e22449b7cf29864669b15d/pyparsing-2.4.7-py2.py3-none-any.whl\n",
      "Collecting pillow>=6.2.0 (from matplotlib)\n",
      "  Using cached https://files.pythonhosted.org/packages/eb/8e/d2f7a67cf8da9b83c1e3ee38dbf49448f3c8acb2cb38f76e4301f4a70223/Pillow-8.1.0-cp37-cp37m-manylinux1_x86_64.whl\n",
      "Collecting cycler>=0.10 (from matplotlib)\n",
      "  Using cached https://files.pythonhosted.org/packages/f7/d2/e07d3ebb2bd7af696440ce7e754c59dd546ffe1bbe732c8ab68b9c834e61/cycler-0.10.0-py2.py3-none-any.whl\n",
      "Collecting kiwisolver>=1.0.1 (from matplotlib)\n",
      "  Using cached https://files.pythonhosted.org/packages/d2/46/231de802ade4225b76b96cffe419cf3ce52bbe92e3b092cf12db7d11c207/kiwisolver-1.3.1-cp37-cp37m-manylinux1_x86_64.whl\n",
      "Requirement already satisfied: six>=1.5 in /usr/local/lib/python3.7/site-packages (from python-dateutil>=2.1->matplotlib)\n",
      "Installing collected packages: pyparsing, pillow, cycler, kiwisolver, matplotlib\n",
      "Successfully installed cycler-0.10.0 kiwisolver-1.3.1 matplotlib-3.3.3 pillow-8.1.0 pyparsing-2.4.7"
     ]
    }
   ],
   "source": [
    "sc.install_pypi_package(\"pyarrow==0.14\")\n",
    "sc.install_pypi_package(\"pandas==1.2.0\")\n",
    "sc.install_pypi_package(\"matplotlib\")"
   ]
  },
  {
   "cell_type": "code",
   "execution_count": 3,
   "metadata": {},
   "outputs": [
    {
     "data": {
      "application/vnd.jupyter.widget-view+json": {
       "model_id": "c2a09a0069704f9b8b188e4e1c4bf5aa",
       "version_major": 2,
       "version_minor": 0
      },
      "text/plain": [
       "VBox()"
      ]
     },
     "metadata": {},
     "output_type": "display_data"
    },
    {
     "data": {
      "application/vnd.jupyter.widget-view+json": {
       "model_id": "",
       "version_major": 2,
       "version_minor": 0
      },
      "text/plain": [
       "FloatProgress(value=0.0, bar_style='info', description='Progress:', layout=Layout(height='25px', width='50%'),…"
      ]
     },
     "metadata": {},
     "output_type": "display_data"
    }
   ],
   "source": [
    "import pyspark.sql.functions as f\n",
    "from pyspark.sql.types import *\n",
    "from pyspark.ml import Pipeline\n",
    "from pyspark.ml.classification import GBTClassifier\n",
    "from pyspark.ml.feature import StringIndexer, VectorIndexer, OneHotEncoderEstimator, VectorAssembler\n",
    "from pyspark.ml.evaluation import MulticlassClassificationEvaluator, BinaryClassificationEvaluator\n",
    "from pyspark.ml.tuning import CrossValidator, ParamGridBuilder\n",
    "from pyspark.ml.stat import Correlation\n",
    "from pyspark.mllib.evaluation import MulticlassMetrics\n",
    "\n",
    "import zipfile\n",
    "import tarfile\n",
    "import os\n",
    "import json\n",
    "import matplotlib.pyplot as plt\n",
    "import pandas as pd\n",
    "import numpy as np\n",
    "import boto3\n",
    "from pprint import pprint\n",
    "from mleap.pyspark.spark_support import SimpleSparkSerializer\n",
    "\n",
    "pd.set_option('display.max_rows', 100)\n",
    "pd.set_option('display.max_columns', 100)\n",
    "pd.set_option('display.float_format', '{:0.4f}'.format)"
   ]
  },
  {
   "cell_type": "markdown",
   "metadata": {},
   "source": [
    "## Data exploration"
   ]
  },
  {
   "cell_type": "code",
   "execution_count": 4,
   "metadata": {},
   "outputs": [
    {
     "data": {
      "application/vnd.jupyter.widget-view+json": {
       "model_id": "756e337241824f069c25fe74e229dafd",
       "version_major": 2,
       "version_minor": 0
      },
      "text/plain": [
       "VBox()"
      ]
     },
     "metadata": {},
     "output_type": "display_data"
    },
    {
     "data": {
      "application/vnd.jupyter.widget-view+json": {
       "model_id": "",
       "version_major": 2,
       "version_minor": 0
      },
      "text/plain": [
       "FloatProgress(value=0.0, bar_style='info', description='Progress:', layout=Layout(height='25px', width='50%'),…"
      ]
     },
     "metadata": {},
     "output_type": "display_data"
    }
   ],
   "source": [
    "# Load training data\n",
    "df = spark.sql(\"select * from training.model_data\")"
   ]
  },
  {
   "cell_type": "code",
   "execution_count": 5,
   "metadata": {},
   "outputs": [
    {
     "data": {
      "application/vnd.jupyter.widget-view+json": {
       "model_id": "c42b334c578a4f78b915ffe6a29043a1",
       "version_major": 2,
       "version_minor": 0
      },
      "text/plain": [
       "VBox()"
      ]
     },
     "metadata": {},
     "output_type": "display_data"
    },
    {
     "data": {
      "application/vnd.jupyter.widget-view+json": {
       "model_id": "",
       "version_major": 2,
       "version_minor": 0
      },
      "text/plain": [
       "FloatProgress(value=0.0, bar_style='info', description='Progress:', layout=Layout(height='25px', width='50%'),…"
      ]
     },
     "metadata": {},
     "output_type": "display_data"
    },
    {
     "name": "stdout",
     "output_type": "stream",
     "text": [
      "-RECORD 0------------------------------------------------------------------------------------------------------------------------------------------------------------------------------------------------------------------------------------------------------------------------------------------------------------------------------------------------------------------------------------------\n",
      " dataset_name                               | android-stackexchange-com                                                                                                                                                                                                                                                                                                                            \n",
      " post_id                                    | 11                                                                                                                                                                                                                                                                                                                                                   \n",
      " post_datetime                              | 2010-09-13 19:22:01.08                                                                                                                                                                                                                                                                                                                               \n",
      " post_hour                                  | 19                                                                                                                                                                                                                                                                                                                                                   \n",
      " post_dayofweek                             | 2                                                                                                                                                                                                                                                                                                                                                    \n",
      " post_month                                 | 9                                                                                                                                                                                                                                                                                                                                                    \n",
      " post_year                                  | 2010                                                                                                                                                                                                                                                                                                                                                 \n",
      " post_body                                  | <p>When I receive a text message to my Google voice number, I get a notification from my text application, as well as the Google Voice application. It would seem that the message is being forwarded to my cell number, but I've turned off text forwarding in the Voicemail &amp; Text settings.  Is there another setting that I am missing?</p>\n",
      " \n",
      " post_body_char_count                       | 331                                                                                                                                                                                                                                                                                                                                                  \n",
      " post_body_nocode_char_count                | 331                                                                                                                                                                                                                                                                                                                                                  \n",
      " post_body_code_perc                        | 0.0                                                                                                                                                                                                                                                                                                                                                  \n",
      " post_body_code_flag                        | 0                                                                                                                                                                                                                                                                                                                                                    \n",
      " post_body_image_flag                       | 0                                                                                                                                                                                                                                                                                                                                                    \n",
      " post_body_link_flag                        | 0                                                                                                                                                                                                                                                                                                                                                    \n",
      " post_body_bold_flag                        | 0                                                                                                                                                                                                                                                                                                                                                    \n",
      " post_title                                 | How do I stop from getting notified twice when I get a text to my Google Voice number?                                                                                                                                                                                                                                                               \n",
      " post_title_upper_flag                      | 1                                                                                                                                                                                                                                                                                                                                                    \n",
      " post_title_question_flag                   | 1                                                                                                                                                                                                                                                                                                                                                    \n",
      " post_title_char_count                      | 86                                                                                                                                                                                                                                                                                                                                                   \n",
      " post_tags                                  | [sms, notifications, google-voice]                                                                                                                                                                                                                                                                                                                   \n",
      " post_tag_count                             | 3                                                                                                                                                                                                                                                                                                                                                    \n",
      " post_body_sentence_count                   | 4                                                                                                                                                                                                                                                                                                                                                    \n",
      " post_body_word_count                       | 59                                                                                                                                                                                                                                                                                                                                                   \n",
      " post_body_word_distinct_count              | 19                                                                                                                                                                                                                                                                                                                                                   \n",
      " post_body_verb_perc                        | 0.2033898305084746                                                                                                                                                                                                                                                                                                                                   \n",
      " post_body_noun_perc                        | 0.3389830508474576                                                                                                                                                                                                                                                                                                                                   \n",
      " post_body_pronoun_perc                     | 0.11864406779661017                                                                                                                                                                                                                                                                                                                                  \n",
      " post_body_adjective_perc                   | 0.0                                                                                                                                                                                                                                                                                                                                                  \n",
      " post_body_adverb_perc                      | 0.03389830508474576                                                                                                                                                                                                                                                                                                                                  \n",
      " post_title_word_count                      | 18                                                                                                                                                                                                                                                                                                                                                   \n",
      " post_title_word_distinct_count             | 8                                                                                                                                                                                                                                                                                                                                                    \n",
      " post_title_verb_perc                       | 0.2222222222222222                                                                                                                                                                                                                                                                                                                                   \n",
      " post_title_noun_perc                       | 0.2222222222222222                                                                                                                                                                                                                                                                                                                                   \n",
      " post_title_pronoun_perc                    | 0.16666666666666666                                                                                                                                                                                                                                                                                                                                  \n",
      " post_title_adjective_perc                  | 0.05555555555555555                                                                                                                                                                                                                                                                                                                                  \n",
      " post_title_adverb_perc                     | 0.05555555555555555                                                                                                                                                                                                                                                                                                                                  \n",
      " post_title_in_body_perc                    | 0.625                                                                                                                                                                                                                                                                                                                                                \n",
      " tag_post_count_max                         | 6                                                                                                                                                                                                                                                                                                                                                    \n",
      " tag_post_count_30d_max                     | 3                                                                                                                                                                                                                                                                                                                                                    \n",
      " tag_post_count_365d_max                    | 6                                                                                                                                                                                                                                                                                                                                                    \n",
      " tag_age_days_max                           | 68                                                                                                                                                                                                                                                                                                                                                   \n",
      " tag_post_count_avg                         | 4.0                                                                                                                                                                                                                                                                                                                                                  \n",
      " tag_post_count_30d_avg                     | 1.3333333333333333                                                                                                                                                                                                                                                                                                                                   \n",
      " tag_post_count_365d_avg                    | 4.0                                                                                                                                                                                                                                                                                                                                                  \n",
      " tag_age_days_avg                           | 42.0                                                                                                                                                                                                                                                                                                                                                 \n",
      " user_id                                    | 30                                                                                                                                                                                                                                                                                                                                                   \n",
      " user_age_days                              | 0                                                                                                                                                                                                                                                                                                                                                    \n",
      " user_website_flag                          | 1                                                                                                                                                                                                                                                                                                                                                    \n",
      " user_location_flag                         | 1                                                                                                                                                                                                                                                                                                                                                    \n",
      " user_about_me_flag                         | 1                                                                                                                                                                                                                                                                                                                                                    \n",
      " user_badge_count                           | 0                                                                                                                                                                                                                                                                                                                                                    \n",
      " user_badge_1_count                         | 0                                                                                                                                                                                                                                                                                                                                                    \n",
      " user_badge_2_count                         | 0                                                                                                                                                                                                                                                                                                                                                    \n",
      " user_badge_3_count                         | 0                                                                                                                                                                                                                                                                                                                                                    \n",
      " user_post_count                            | 0                                                                                                                                                                                                                                                                                                                                                    \n",
      " user_question_count                        | 0                                                                                                                                                                                                                                                                                                                                                    \n",
      " user_answer_count                          | 0                                                                                                                                                                                                                                                                                                                                                    \n",
      " user_first_post_flag                       | 1                                                                                                                                                                                                                                                                                                                                                    \n",
      " user_first_question_flag                   | 1                                                                                                                                                                                                                                                                                                                                                    \n",
      " user_answered_questions_count              | 0                                                                                                                                                                                                                                                                                                                                                    \n",
      " user_accepted_answers_count                | 0                                                                                                                                                                                                                                                                                                                                                    \n",
      " user_score                                 | 0                                                                                                                                                                                                                                                                                                                                                    \n",
      " user_question_score                        | 0                                                                                                                                                                                                                                                                                                                                                    \n",
      " user_answer_score                          | 0                                                                                                                                                                                                                                                                                                                                                    \n",
      " post_closed_flag                           | 0                                                                                                                                                                                                                                                                                                                                                    \n",
      " post_score                                 | 6                                                                                                                                                                                                                                                                                                                                                    \n",
      " post_score_1d                              | 3                                                                                                                                                                                                                                                                                                                                                    \n",
      " post_score_30d                             | 4                                                                                                                                                                                                                                                                                                                                                    \n",
      " answer_count                               | 2                                                                                                                                                                                                                                                                                                                                                    \n",
      " answer_1d_count                            | 2                                                                                                                                                                                                                                                                                                                                                    \n",
      " answer_30d_count                           | 2                                                                                                                                                                                                                                                                                                                                                    \n",
      " answer_flag                                | 1                                                                                                                                                                                                                                                                                                                                                    \n",
      " answer_1d_flag                             | 1                                                                                                                                                                                                                                                                                                                                                    \n",
      " answer_7d_flag                             | 1                                                                                                                                                                                                                                                                                                                                                    \n",
      " answer_14d_flag                            | 1                                                                                                                                                                                                                                                                                                                                                    \n",
      " answer_30d_flag                            | 1                                                                                                                                                                                                                                                                                                                                                    \n",
      " answer_max_score                           | 5                                                                                                                                                                                                                                                                                                                                                    \n",
      " answer_max_score_1d                        | 1                                                                                                                                                                                                                                                                                                                                                    \n",
      " answer_max_score_30d                       | 2                                                                                                                                                                                                                                                                                                                                                    \n",
      " answer_accepted_flag                       | 1                                                                                                                                                                                                                                                                                                                                                    \n",
      " answer_accepted_1d_flag                    | 0                                                                                                                                                                                                                                                                                                                                                    \n",
      " answer_accepted_7d_flag                    | 0                                                                                                                                                                                                                                                                                                                                                    \n",
      " answer_accepted_14d_flag                   | 0                                                                                                                                                                                                                                                                                                                                                    \n",
      " answer_accepted_30d_flag                   | 1                                                                                                                                                                                                                                                                                                                                                    \n",
      " android_stackexchange_com_flag             | 1                                                                                                                                                                                                                                                                                                                                                    \n",
      " askubuntu_com_flag                         | 0                                                                                                                                                                                                                                                                                                                                                    \n",
      " cs_stackexchange_com_flag                  | 0                                                                                                                                                                                                                                                                                                                                                    \n",
      " datascience_stackexchange_com_flag         | 0                                                                                                                                                                                                                                                                                                                                                    \n",
      " dba_stackexchange_com_flag                 | 0                                                                                                                                                                                                                                                                                                                                                    \n",
      " devops_stackexchange_com_flag              | 0                                                                                                                                                                                                                                                                                                                                                    \n",
      " gamedev_stackexchange_com_flag             | 0                                                                                                                                                                                                                                                                                                                                                    \n",
      " raspberrypi_stackexchange_com_flag         | 0                                                                                                                                                                                                                                                                                                                                                    \n",
      " softwareengineering_stackexchange_com_flag | 0                                                                                                                                                                                                                                                                                                                                                    \n",
      " unix_stackexchange_com_flag                | 0                                                                                                                                                                                                                                                                                                                                                    \n",
      "only showing top 1 row"
     ]
    }
   ],
   "source": [
    "df.show(1, vertical=True, truncate=False)"
   ]
  },
  {
   "cell_type": "code",
   "execution_count": 6,
   "metadata": {},
   "outputs": [
    {
     "data": {
      "application/vnd.jupyter.widget-view+json": {
       "model_id": "9bbd53fade7d49629d112f1a7ab22323",
       "version_major": 2,
       "version_minor": 0
      },
      "text/plain": [
       "VBox()"
      ]
     },
     "metadata": {},
     "output_type": "display_data"
    },
    {
     "data": {
      "application/vnd.jupyter.widget-view+json": {
       "model_id": "",
       "version_major": 2,
       "version_minor": 0
      },
      "text/plain": [
       "FloatProgress(value=0.0, bar_style='info', description='Progress:', layout=Layout(height='25px', width='50%'),…"
      ]
     },
     "metadata": {},
     "output_type": "display_data"
    },
    {
     "name": "stdout",
     "output_type": "stream",
     "text": [
      "True"
     ]
    }
   ],
   "source": [
    "# check NA\n",
    "df.select([f.count(f.when(f.isnan(c[0]) | f.isnull(c[0]), c[0])).alias(c[0]) for c in df.dtypes if not c[1] in (\"string\", \"timestamp\", \"array<string>\")])\\\n",
    ".toPandas().transpose().sum().sum() == 0"
   ]
  },
  {
   "cell_type": "code",
   "execution_count": 7,
   "metadata": {
    "scrolled": false
   },
   "outputs": [
    {
     "data": {
      "application/vnd.jupyter.widget-view+json": {
       "model_id": "cc9f244cd6304efabb3ae648c747f989",
       "version_major": 2,
       "version_minor": 0
      },
      "text/plain": [
       "VBox()"
      ]
     },
     "metadata": {},
     "output_type": "display_data"
    },
    {
     "data": {
      "application/vnd.jupyter.widget-view+json": {
       "model_id": "",
       "version_major": 2,
       "version_minor": 0
      },
      "text/plain": [
       "FloatProgress(value=0.0, bar_style='info', description='Progress:', layout=Layout(height='25px', width='50%'),…"
      ]
     },
     "metadata": {},
     "output_type": "display_data"
    },
    {
     "name": "stdout",
     "output_type": "stream",
     "text": [
      "                              0\n",
      "answer_1d_flag           0.5677\n",
      "answer_7d_flag           0.6928\n",
      "answer_14d_flag          0.7079\n",
      "answer_30d_flag          0.7222\n",
      "answer_accepted_1d_flag  0.1449\n",
      "answer_accepted_7d_flag  0.2884\n",
      "answer_accepted_14d_flag 0.3084\n",
      "answer_accepted_30d_flag 0.3227\n",
      "post_closed_flag         0.1064"
     ]
    }
   ],
   "source": [
    "# Potential target variables\n",
    "df.agg(*[f.mean(c).alias(c) for c in [\"answer_1d_flag\",\n",
    "                                     \"answer_7d_flag\",\n",
    "                                     \"answer_14d_flag\",\n",
    "                                     \"answer_30d_flag\",\n",
    "                                     \"answer_accepted_1d_flag\",\n",
    "                                     \"answer_accepted_7d_flag\",\n",
    "                                     \"answer_accepted_14d_flag\",\n",
    "                                     \"answer_accepted_30d_flag\",\n",
    "                                     \"post_closed_flag\"]]\n",
    ").toPandas().transpose()"
   ]
  },
  {
   "cell_type": "code",
   "execution_count": 8,
   "metadata": {},
   "outputs": [
    {
     "data": {
      "application/vnd.jupyter.widget-view+json": {
       "model_id": "c5169d403887441495c7bc325e7ca509",
       "version_major": 2,
       "version_minor": 0
      },
      "text/plain": [
       "VBox()"
      ]
     },
     "metadata": {},
     "output_type": "display_data"
    },
    {
     "data": {
      "application/vnd.jupyter.widget-view+json": {
       "model_id": "",
       "version_major": 2,
       "version_minor": 0
      },
      "text/plain": [
       "FloatProgress(value=0.0, bar_style='info', description='Progress:', layout=Layout(height='25px', width='50%'),…"
      ]
     },
     "metadata": {},
     "output_type": "display_data"
    }
   ],
   "source": [
    "y = \"answer_accepted_7d_flag\""
   ]
  },
  {
   "cell_type": "code",
   "execution_count": 23,
   "metadata": {},
   "outputs": [
    {
     "data": {
      "application/vnd.jupyter.widget-view+json": {
       "model_id": "0eefcdb06e874771b9befe84ec532bf3",
       "version_major": 2,
       "version_minor": 0
      },
      "text/plain": [
       "VBox()"
      ]
     },
     "metadata": {},
     "output_type": "display_data"
    },
    {
     "data": {
      "application/vnd.jupyter.widget-view+json": {
       "model_id": "",
       "version_major": 2,
       "version_minor": 0
      },
      "text/plain": [
       "FloatProgress(value=0.0, bar_style='info', description='Progress:', layout=Layout(height='25px', width='50%'),…"
      ]
     },
     "metadata": {},
     "output_type": "display_data"
    },
    {
     "name": "stdout",
     "output_type": "stream",
     "text": [
      "                            dataset_name  answer_accepted_7d_flag\n",
      "0              android-stackexchange-com                   0.1658\n",
      "1                          askubuntu-com                   0.2089\n",
      "2                   cs-stackexchange-com                   0.3656\n",
      "3          datascience-stackexchange-com                   0.2381\n",
      "4                  dba-stackexchange-com                   0.3717\n",
      "5               devops-stackexchange-com                   0.2358\n",
      "6              gamedev-stackexchange-com                   0.3931\n",
      "7          raspberrypi-stackexchange-com                   0.2262\n",
      "8  softwareengineering-stackexchange-com                   0.4248\n",
      "9                 unix-stackexchange-com                   0.3645"
     ]
    }
   ],
   "source": [
    "df.groupBy(\"dataset_name\").agg(f.mean(\"answer_accepted_7d_flag\").alias(y)).sort(\"dataset_name\").toPandas()"
   ]
  },
  {
   "cell_type": "code",
   "execution_count": 10,
   "metadata": {
    "scrolled": true
   },
   "outputs": [
    {
     "data": {
      "application/vnd.jupyter.widget-view+json": {
       "model_id": "5c626addf0514aa5838dde1a42590c9f",
       "version_major": 2,
       "version_minor": 0
      },
      "text/plain": [
       "VBox()"
      ]
     },
     "metadata": {},
     "output_type": "display_data"
    },
    {
     "data": {
      "application/vnd.jupyter.widget-view+json": {
       "model_id": "",
       "version_major": 2,
       "version_minor": 0
      },
      "text/plain": [
       "FloatProgress(value=0.0, bar_style='info', description='Progress:', layout=Layout(height='25px', width='50%'),…"
      ]
     },
     "metadata": {},
     "output_type": "display_data"
    },
    {
     "name": "stdout",
     "output_type": "stream",
     "text": [
      "                                                   0         1   diff\n",
      "android_stackexchange_com_flag                0.0336    0.0685 1.0383\n",
      "y                                             1.0000    0.0000 1.0000\n",
      "askubuntu_com_flag                            0.2873    0.4407 0.5343\n",
      "softwareengineering_stackexchange_com_flag    0.0991    0.0544 0.4513\n",
      "user_accepted_answers_count                   6.3641    3.5798 0.4375\n",
      "raspberrypi_stackexchange_com_flag            0.0273    0.0379 0.3863\n",
      "gamedev_stackexchange_com_flag                0.0752    0.0471 0.3744\n",
      "user_question_score                          62.1691   39.2554 0.3686\n",
      "user_answered_questions_count                 8.6108    5.6087 0.3486\n",
      "user_question_count                           9.3433    6.2663 0.3293\n",
      "user_first_post_flag                          0.4039    0.5352 0.3252\n",
      "dba_stackexchange_com_flag                    0.1240    0.0850 0.3149\n",
      "devops_stackexchange_com_flag                 0.0034    0.0045 0.3133\n",
      "user_score                                  108.9991   75.6698 0.3058\n",
      "cs_stackexchange_com_flag                     0.0557    0.0392 0.2969\n",
      "datascience_stackexchange_com_flag            0.0251    0.0326 0.2966\n",
      "user_first_question_flag                      0.4321    0.5592 0.2941\n",
      "unix_stackexchange_com_flag                   0.2691    0.1902 0.2934\n",
      "user_post_count                              17.9993   13.0568 0.2746\n",
      "user_badge_3_count                            6.9605    5.2021 0.2526\n",
      "user_about_me_flag                            0.4868    0.3673 0.2455\n",
      "user_badge_count                              9.1716    6.9728 0.2397\n",
      "post_title_question_flag                      0.4032    0.3080 0.2361\n",
      "user_location_flag                            0.4755    0.3682 0.2256\n",
      "user_answer_score                            46.7490   36.3450 0.2226\n",
      "user_website_flag                             0.3716    0.2889 0.2224\n",
      "user_answer_count                             8.3727    6.5666 0.2157\n",
      "tag_post_count_30d_max                      109.7240  132.1545 0.2044\n",
      "user_badge_2_count                            1.8610    1.4853 0.2019\n",
      "user_badge_1_count                            0.3501    0.2854 0.1850\n",
      "tag_post_count_30d_avg                       52.9103   61.8650 0.1692\n",
      "post_title_adverb_perc                        0.0210    0.0244 0.1592\n",
      "post_body_code_flag                           0.5656    0.4765 0.1576\n",
      "post_body_char_count                        895.0480 1022.6964 0.1426\n",
      "tag_post_count_365d_max                    1127.7315 1259.9728 0.1173\n",
      "post_body_image_flag                          0.0782    0.0865 0.1058\n",
      "post_title_adjective_perc                     0.0562    0.0503 0.1050\n",
      "post_body_link_flag                           0.2261    0.2490 0.1014\n",
      "tag_post_count_365d_avg                     557.4407  613.9596 0.1014\n",
      "post_body_code_perc                           0.2021    0.1822 0.0983\n",
      "post_body_word_distinct_count                36.3098   39.8431 0.0973\n",
      "post_body_sentence_count                      6.1066    6.6871 0.0951\n",
      "post_body_nocode_char_count                 565.9567  612.5025 0.0822\n",
      "tag_post_count_avg                         2123.5204 2288.1527 0.0775\n",
      "post_body_word_count                        100.8888  108.0430 0.0709\n",
      "tag_age_days_avg                           1796.7386 1918.7077 0.0679\n",
      "tag_post_count_max                         4185.2836 4452.1758 0.0638\n",
      "tag_age_days_max                           2026.9752 2147.5867 0.0595\n",
      "post_body_bold_flag                           0.1451    0.1369 0.0565\n",
      "post_title_noun_perc                          0.4685    0.4948 0.0561\n",
      "user_age_days                               345.0490  325.9990 0.0552\n",
      "post_title_pronoun_perc                       0.0204    0.0194 0.0471\n",
      "post_body_adjective_perc                      0.0515    0.0491 0.0468\n",
      "post_body_noun_perc                           0.2732    0.2849 0.0426\n",
      "post_title_verb_perc                          0.1375    0.1317 0.0416\n",
      "post_title_word_distinct_count                5.4582    5.6525 0.0356\n",
      "post_body_pronoun_perc                        0.0782    0.0807 0.0319\n",
      "post_title_in_body_perc                       0.6878    0.7020 0.0208\n",
      "post_body_adverb_perc                         0.0436    0.0445 0.0204\n",
      "post_title_word_count                         8.9178    8.7707 0.0165\n",
      "post_tag_count                                2.7092    2.7514 0.0156\n",
      "post_title_upper_flag                         0.8937    0.8833 0.0116\n",
      "post_hour                                    12.7776   12.6496 0.0100\n",
      "post_month                                    6.4643    6.5005 0.0056\n",
      "post_title_char_count                        52.9239   52.8085 0.0022\n",
      "post_dayofweek                                3.9909    3.9964 0.0014\n",
      "post_body_verb_perc                           0.1965    0.1963 0.0013\n",
      "post_year                                  2015.3565 2015.9481 0.0003"
     ]
    }
   ],
   "source": [
    "# Features vs target\n",
    "x = ['post_hour', \n",
    "     'post_dayofweek', \n",
    "     'post_month', \n",
    "     'post_year',\n",
    "     'post_body_char_count',\n",
    "     'post_body_nocode_char_count',\n",
    "     'post_body_code_perc',\n",
    "     'post_body_code_flag',\n",
    "     'post_body_image_flag',\n",
    "     'post_body_link_flag',\n",
    "     'post_body_bold_flag',\n",
    "     'post_title_upper_flag',\n",
    "     'post_title_question_flag',\n",
    "     'post_title_char_count',\n",
    "     'post_tag_count', \n",
    "     'post_body_sentence_count', \n",
    "     'post_body_word_count', \n",
    "     'post_body_word_distinct_count', \n",
    "     'post_body_verb_perc', \n",
    "     'post_body_noun_perc', \n",
    "     'post_body_pronoun_perc', \n",
    "     'post_body_adjective_perc', \n",
    "     'post_body_adverb_perc', \n",
    "     'post_title_word_count', \n",
    "     'post_title_word_distinct_count', \n",
    "     'post_title_verb_perc', \n",
    "     'post_title_noun_perc', \n",
    "     'post_title_pronoun_perc', \n",
    "     'post_title_adjective_perc', \n",
    "     'post_title_adverb_perc', \n",
    "     'post_title_in_body_perc', \n",
    "     'tag_post_count_max', \n",
    "     'tag_post_count_30d_max', \n",
    "     'tag_post_count_365d_max',\n",
    "     'tag_age_days_max',\n",
    "     'tag_post_count_avg',\n",
    "     'tag_post_count_30d_avg',\n",
    "     'tag_post_count_365d_avg',\n",
    "     'tag_age_days_avg',\n",
    "     'user_age_days',\n",
    "     'user_website_flag',\n",
    "     'user_location_flag',\n",
    "     'user_about_me_flag',\n",
    "     'user_badge_count',\n",
    "     'user_badge_1_count',\n",
    "     'user_badge_2_count',\n",
    "     'user_badge_3_count', \n",
    "     'user_post_count',\n",
    "     'user_question_count',\n",
    "     'user_answer_count',\n",
    "     'user_first_post_flag',\n",
    "     'user_first_question_flag',\n",
    "     'user_answered_questions_count',\n",
    "     'user_accepted_answers_count',\n",
    "     'user_score',\n",
    "     'user_question_score',\n",
    "     'user_answer_score',\n",
    "     'android_stackexchange_com_flag',\n",
    "     'askubuntu_com_flag',\n",
    "     'cs_stackexchange_com_flag',\n",
    "     'datascience_stackexchange_com_flag',\n",
    "     'dba_stackexchange_com_flag',\n",
    "     'devops_stackexchange_com_flag',\n",
    "     'gamedev_stackexchange_com_flag',\n",
    "     'raspberrypi_stackexchange_com_flag',\n",
    "     'softwareengineering_stackexchange_com_flag',\n",
    "     'unix_stackexchange_com_flag'\n",
    "    ]\n",
    "\n",
    "df_model = df.select(*x, y).withColumnRenamed(y, \"y\")\n",
    "\n",
    "x_mean_vs_y = \\\n",
    "df_model.groupBy(\"y\")\\\n",
    ".agg(*[f.mean(c).alias(c) for c in x])\\\n",
    ".toPandas().transpose()\n",
    "\n",
    "x_mean_vs_y[\"diff\"] = np.abs(x_mean_vs_y[1]/x_mean_vs_y[0] -1)\n",
    "x_mean_vs_y.sort_values(by=\"diff\", ascending=False)"
   ]
  },
  {
   "cell_type": "markdown",
   "metadata": {},
   "source": [
    "### Correlation"
   ]
  },
  {
   "cell_type": "code",
   "execution_count": 11,
   "metadata": {},
   "outputs": [
    {
     "data": {
      "application/vnd.jupyter.widget-view+json": {
       "model_id": "8dfc72c43f8e4a4faa2ece09668a021a",
       "version_major": 2,
       "version_minor": 0
      },
      "text/plain": [
       "VBox()"
      ]
     },
     "metadata": {},
     "output_type": "display_data"
    },
    {
     "data": {
      "application/vnd.jupyter.widget-view+json": {
       "model_id": "",
       "version_major": 2,
       "version_minor": 0
      },
      "text/plain": [
       "FloatProgress(value=0.0, bar_style='info', description='Progress:', layout=Layout(height='25px', width='50%'),…"
      ]
     },
     "metadata": {},
     "output_type": "display_data"
    }
   ],
   "source": [
    "assembler = VectorAssembler(inputCols=x, outputCol=\"features\")\n",
    "cor = Correlation.corr(assembler.transform(df_model).select(\"features\"), \"features\", \"spearman\")"
   ]
  },
  {
   "cell_type": "code",
   "execution_count": 12,
   "metadata": {},
   "outputs": [
    {
     "data": {
      "application/vnd.jupyter.widget-view+json": {
       "model_id": "a5cb865387534635a793b2954287a543",
       "version_major": 2,
       "version_minor": 0
      },
      "text/plain": [
       "VBox()"
      ]
     },
     "metadata": {},
     "output_type": "display_data"
    },
    {
     "data": {
      "application/vnd.jupyter.widget-view+json": {
       "model_id": "",
       "version_major": 2,
       "version_minor": 0
      },
      "text/plain": [
       "FloatProgress(value=0.0, bar_style='info', description='Progress:', layout=Layout(height='25px', width='50%'),…"
      ]
     },
     "metadata": {},
     "output_type": "display_data"
    }
   ],
   "source": [
    "cor_df = pd.DataFrame(\n",
    "    pd.DataFrame(np.tril(cor.collect()[0][0].toArray()), columns=x, index=x).unstack().abs(),\n",
    ").reset_index()\n",
    "cor_df.columns = [\"x1\", \"x2\", \"cor\"]\n",
    "cor_df = cor_df.loc[cor_df[\"x1\"] != cor_df[\"x2\"]].set_index(\"x1\", \"x2\").sort_values(by=\"cor\", ascending=False)"
   ]
  },
  {
   "cell_type": "code",
   "execution_count": 13,
   "metadata": {},
   "outputs": [
    {
     "data": {
      "application/vnd.jupyter.widget-view+json": {
       "model_id": "5c2bbf7a59d44c5b9e4d0b082b9837a7",
       "version_major": 2,
       "version_minor": 0
      },
      "text/plain": [
       "VBox()"
      ]
     },
     "metadata": {},
     "output_type": "display_data"
    },
    {
     "data": {
      "application/vnd.jupyter.widget-view+json": {
       "model_id": "",
       "version_major": 2,
       "version_minor": 0
      },
      "text/plain": [
       "FloatProgress(value=0.0, bar_style='info', description='Progress:', layout=Layout(height='25px', width='50%'),…"
      ]
     },
     "metadata": {},
     "output_type": "display_data"
    },
    {
     "name": "stdout",
     "output_type": "stream",
     "text": [
      "                                                          x2    cor\n",
      "x1                                                                 \n",
      "user_badge_count                          user_badge_3_count 0.9994\n",
      "post_body_nocode_char_count             post_body_word_count 0.9921\n",
      "user_question_count            user_answered_questions_count 0.9787\n",
      "tag_post_count_max                        tag_post_count_avg 0.9729\n",
      "post_body_nocode_char_count    post_body_word_distinct_count 0.9716\n",
      "tag_post_count_30d_max                tag_post_count_30d_avg 0.9682\n",
      "tag_post_count_365d_max              tag_post_count_365d_avg 0.9672\n",
      "post_body_word_count           post_body_word_distinct_count 0.9661\n",
      "tag_age_days_max                            tag_age_days_avg 0.9660\n",
      "user_post_count                          user_question_count 0.9610\n",
      "tag_post_count_30d_avg               tag_post_count_365d_avg 0.9610\n",
      "tag_post_count_30d_max               tag_post_count_365d_max 0.9604\n",
      "user_score                               user_question_score 0.9604\n",
      "user_first_post_flag                user_first_question_flag 0.9507\n",
      "user_post_count                user_answered_questions_count 0.9427\n",
      "user_question_count                 user_first_question_flag 0.9360\n",
      "tag_post_count_365d_max               tag_post_count_30d_avg 0.9309\n",
      "tag_post_count_30d_max               tag_post_count_365d_avg 0.9293\n",
      "user_post_count                         user_first_post_flag 0.9259\n",
      "post_body_code_perc                      post_body_code_flag 0.9250\n",
      "user_post_count                                   user_score 0.9151\n",
      "tag_post_count_max                   tag_post_count_365d_max 0.9131\n",
      "user_answered_questions_count    user_accepted_answers_count 0.9102\n",
      "user_question_count                      user_question_score 0.9094\n",
      "tag_post_count_avg                   tag_post_count_365d_avg 0.9090\n",
      "post_title_char_count                  post_title_word_count 0.9057\n",
      "user_answered_questions_count            user_question_score 0.9030\n",
      "user_badge_3_count                           user_post_count 0.9018\n",
      "user_first_question_flag       user_answered_questions_count 0.9010\n",
      "user_badge_count                             user_post_count 0.9010"
     ]
    }
   ],
   "source": [
    "cor_df.head(30)"
   ]
  },
  {
   "cell_type": "code",
   "execution_count": 14,
   "metadata": {},
   "outputs": [
    {
     "data": {
      "application/vnd.jupyter.widget-view+json": {
       "model_id": "33eecb6623e84f4d99536488adc6ef5d",
       "version_major": 2,
       "version_minor": 0
      },
      "text/plain": [
       "VBox()"
      ]
     },
     "metadata": {},
     "output_type": "display_data"
    },
    {
     "data": {
      "application/vnd.jupyter.widget-view+json": {
       "model_id": "",
       "version_major": 2,
       "version_minor": 0
      },
      "text/plain": [
       "FloatProgress(value=0.0, bar_style='info', description='Progress:', layout=Layout(height='25px', width='50%'),…"
      ]
     },
     "metadata": {},
     "output_type": "display_data"
    }
   ],
   "source": [
    "x_drop = [\"user_badge_count\", \"post_body_word_count\", \"user_question_count\", \n",
    "          \"tag_post_count_max\", \"tag_post_count_30d_max\", \"tag_post_count_365d_max\", \"tag_age_days_max\"]\n",
    "\n",
    "df_model = df_model.drop(*x_drop)"
   ]
  },
  {
   "cell_type": "markdown",
   "metadata": {},
   "source": [
    "## Estimation"
   ]
  },
  {
   "cell_type": "code",
   "execution_count": 15,
   "metadata": {},
   "outputs": [
    {
     "data": {
      "application/vnd.jupyter.widget-view+json": {
       "model_id": "fc701eebb9584ccaa7cd0a0b484f30c6",
       "version_major": 2,
       "version_minor": 0
      },
      "text/plain": [
       "VBox()"
      ]
     },
     "metadata": {},
     "output_type": "display_data"
    },
    {
     "data": {
      "application/vnd.jupyter.widget-view+json": {
       "model_id": "",
       "version_major": 2,
       "version_minor": 0
      },
      "text/plain": [
       "FloatProgress(value=0.0, bar_style='info', description='Progress:', layout=Layout(height='25px', width='50%'),…"
      ]
     },
     "metadata": {},
     "output_type": "display_data"
    },
    {
     "name": "stdout",
     "output_type": "stream",
     "text": [
      "837893 586731 251162\n",
      "+-------------------+\n",
      "|             avg(y)|\n",
      "+-------------------+\n",
      "|0.28840985051071105|\n",
      "+-------------------+\n",
      "\n",
      "+------------------+\n",
      "|            avg(y)|\n",
      "+------------------+\n",
      "|0.2882920186970959|\n",
      "+------------------+"
     ]
    }
   ],
   "source": [
    "train, test = df_model.randomSplit([0.7, 0.3], seed=1)\n",
    "print(df.count(), train.count(), test.count())\n",
    "\n",
    "train.select(f.mean(\"y\")).show()\n",
    "test.select(f.mean(\"y\")).show()"
   ]
  },
  {
   "cell_type": "code",
   "execution_count": 16,
   "metadata": {
    "scrolled": false
   },
   "outputs": [
    {
     "data": {
      "application/vnd.jupyter.widget-view+json": {
       "model_id": "91b9db68a99c4454926eca65db0b4880",
       "version_major": 2,
       "version_minor": 0
      },
      "text/plain": [
       "VBox()"
      ]
     },
     "metadata": {},
     "output_type": "display_data"
    },
    {
     "data": {
      "application/vnd.jupyter.widget-view+json": {
       "model_id": "",
       "version_major": 2,
       "version_minor": 0
      },
      "text/plain": [
       "FloatProgress(value=0.0, bar_style='info', description='Progress:', layout=Layout(height='25px', width='50%'),…"
      ]
     },
     "metadata": {},
     "output_type": "display_data"
    },
    {
     "name": "stdout",
     "output_type": "stream",
     "text": [
      "Accuracy: 0.7212516224588115\n",
      "ROC AUC: 0.7007285168117435\n",
      "PR AUC: 0.4661150477993922\n",
      "\n",
      "Confusion matrix:\n",
      " [[0.68021436 0.03149362]\n",
      " [0.24725476 0.04103726]]\n",
      "\n",
      "Feature importance\n",
      "                                                0\n",
      "post_year                                  0.1383\n",
      "post_body_code_perc                        0.0968\n",
      "user_accepted_answers_count                0.0692\n",
      "post_body_noun_perc                        0.0624\n",
      "user_answered_questions_count              0.0512\n",
      "post_body_word_distinct_count              0.0482\n",
      "post_title_question_flag                   0.0456\n",
      "askubuntu_com_flag                         0.0454\n",
      "cs_stackexchange_com_flag                  0.0326\n",
      "user_age_days                              0.0302\n",
      "softwareengineering_stackexchange_com_flag 0.0286\n",
      "tag_post_count_30d_avg                     0.0264\n",
      "post_title_noun_perc                       0.0257\n",
      "tag_post_count_365d_avg                    0.0253\n",
      "post_body_char_count                       0.0241\n",
      "gamedev_stackexchange_com_flag             0.0234\n",
      "user_location_flag                         0.0230\n",
      "raspberrypi_stackexchange_com_flag         0.0181\n",
      "dba_stackexchange_com_flag                 0.0175\n",
      "post_title_word_distinct_count             0.0151\n",
      "android_stackexchange_com_flag             0.0151\n",
      "unix_stackexchange_com_flag                0.0132\n",
      "post_body_pronoun_perc                     0.0112\n",
      "user_about_me_flag                         0.0101\n",
      "user_badge_3_count                         0.0100\n",
      "post_body_sentence_count                   0.0092\n",
      "tag_age_days_avg                           0.0092\n",
      "post_title_adverb_perc                     0.0088\n",
      "user_post_count                            0.0088\n",
      "tag_post_count_avg                         0.0078\n",
      "user_first_question_flag                   0.0056\n",
      "datascience_stackexchange_com_flag         0.0053\n",
      "user_answer_count                          0.0047\n",
      "post_body_verb_perc                        0.0040\n",
      "post_tag_count                             0.0034\n",
      "post_month                                 0.0030\n",
      "post_title_adjective_perc                  0.0030\n",
      "post_body_nocode_char_count                0.0029\n",
      "user_question_score                        0.0020\n",
      "user_badge_2_count                         0.0018\n",
      "post_body_adjective_perc                   0.0017\n",
      "post_body_bold_flag                        0.0016\n",
      "post_hour                                  0.0016\n",
      "post_title_in_body_perc                    0.0012\n",
      "post_body_link_flag                        0.0011\n",
      "post_title_word_count                      0.0011\n",
      "user_first_post_flag                       0.0009\n",
      "user_score                                 0.0008\n",
      "post_title_pronoun_perc                    0.0008\n",
      "user_badge_1_count                         0.0007\n",
      "user_answer_score                          0.0007\n",
      "post_body_image_flag                       0.0005\n",
      "post_title_verb_perc                       0.0004\n",
      "post_body_adverb_perc                      0.0004\n",
      "post_title_upper_flag                      0.0000\n",
      "post_title_char_count                      0.0000\n",
      "user_website_flag                          0.0000\n",
      "devops_stackexchange_com_flag              0.0000\n",
      "post_body_code_flag                        0.0000\n",
      "post_dayofweek                             0.0000"
     ]
    }
   ],
   "source": [
    "# Baseline model\n",
    "indexer = StringIndexer(inputCol=\"y\", outputCol='label')\n",
    "vec_assembler = VectorAssembler(inputCols=df_model.drop(\"y\").columns, outputCol=\"features\")\n",
    "gbt = GBTClassifier(seed=1)\n",
    "pipeline = Pipeline(stages=[indexer, vec_assembler, gbt])\n",
    "\n",
    "model = pipeline.fit(train)\n",
    "prediction = model.transform(test)\n",
    "\n",
    "evaluator = MulticlassClassificationEvaluator(metricName=\"accuracy\")\n",
    "print(\"Accuracy:\", evaluator.evaluate(prediction))\n",
    "\n",
    "evaluator = BinaryClassificationEvaluator(metricName=\"areaUnderROC\")\n",
    "print(\"ROC AUC:\", evaluator.evaluate(prediction))\n",
    "\n",
    "evaluator = BinaryClassificationEvaluator(metricName=\"areaUnderPR\")\n",
    "print(\"PR AUC:\", evaluator.evaluate(prediction))\n",
    "\n",
    "metrics = MulticlassMetrics(prediction.select(\"prediction\", \"label\").rdd.map(tuple))\n",
    "print(\"\\nConfusion matrix:\\n\", metrics.confusionMatrix().toArray()/test.count())\n",
    "\n",
    "print(\"\\nFeature importance\")\n",
    "pd.DataFrame(model.stages[2].featureImportances.toArray(), index=df_model.drop(\"y\").columns)\\\n",
    ".sort_values(0, ascending=False)"
   ]
  },
  {
   "cell_type": "markdown",
   "metadata": {},
   "source": [
    "## Tuning"
   ]
  },
  {
   "cell_type": "code",
   "execution_count": null,
   "metadata": {},
   "outputs": [
    {
     "data": {
      "application/vnd.jupyter.widget-view+json": {
       "model_id": "d4d259d172bf40f7ac023636a901e539",
       "version_major": 2,
       "version_minor": 0
      },
      "text/plain": [
       "VBox()"
      ]
     },
     "metadata": {},
     "output_type": "display_data"
    },
    {
     "data": {
      "application/vnd.jupyter.widget-view+json": {
       "model_id": "",
       "version_major": 2,
       "version_minor": 0
      },
      "text/plain": [
       "FloatProgress(value=0.0, bar_style='info', description='Progress:', layout=Layout(height='25px', width='50%'),…"
      ]
     },
     "metadata": {},
     "output_type": "display_data"
    },
    {
     "name": "stderr",
     "output_type": "stream",
     "text": [
      "Exception in thread cell_monitor-11:\n",
      "Traceback (most recent call last):\n",
      "  File \"/mnt/notebook-env/lib/python3.7/threading.py\", line 926, in _bootstrap_inner\n",
      "    self.run()\n",
      "  File \"/mnt/notebook-env/lib/python3.7/threading.py\", line 870, in run\n",
      "    self._target(*self._args, **self._kwargs)\n",
      "  File \"/mnt/notebook-env/lib/python3.7/site-packages/awseditorssparkmonitoringwidget-1.0-py3.7.egg/awseditorssparkmonitoringwidget/cellmonitor.py\", line 178, in cell_monitor\n",
      "    job_binned_stages[job_id][stage_id] = all_stages[stage_id]\n",
      "KeyError: 958\n",
      "\n"
     ]
    }
   ],
   "source": [
    "# Grid search\n",
    "paramGrid = ParamGridBuilder() \\\n",
    ".addGrid(gbt.stepSize, [0.05, 0.1, 0.15])\\\n",
    ".addGrid(gbt.maxDepth, [5, 8, 10])\\\n",
    ".addGrid(gbt.minInstancesPerNode, [10, 50, 100])\\\n",
    ".build()\n",
    "\n",
    "crossval = CrossValidator(estimator=pipeline,\n",
    "                          estimatorParamMaps=paramGrid,\n",
    "                          evaluator=BinaryClassificationEvaluator(metricName=\"areaUnderPR\"),\n",
    "                          numFolds=5,\n",
    "                         seed=1)\n",
    "\n",
    "model = crossval.fit(train)\n",
    "prediction = model.transform(test)"
   ]
  },
  {
   "cell_type": "code",
   "execution_count": 13,
   "metadata": {
    "scrolled": true
   },
   "outputs": [
    {
     "data": {
      "application/vnd.jupyter.widget-view+json": {
       "model_id": "bcb106f4b81a4af1b1725e1df71b5b60",
       "version_major": 2,
       "version_minor": 0
      },
      "text/plain": [
       "VBox()"
      ]
     },
     "metadata": {},
     "output_type": "display_data"
    },
    {
     "data": {
      "application/vnd.jupyter.widget-view+json": {
       "model_id": "",
       "version_major": 2,
       "version_minor": 0
      },
      "text/plain": [
       "FloatProgress(value=0.0, bar_style='info', description='Progress:', layout=Layout(height='25px', width='50%'),…"
      ]
     },
     "metadata": {},
     "output_type": "display_data"
    },
    {
     "name": "stdout",
     "output_type": "stream",
     "text": [
      "PR AUC: 0.4789862365856764\n",
      "ROC AUC: 0.7093072203338219\n",
      "Accuracy: 0.7250632468297029\n",
      "\n",
      "Confusion matrix:\n",
      " [[0.66382918 0.04782097]\n",
      " [0.22711579 0.06123407]]\n",
      "\n",
      "Feature importance\n",
      "                                              0\n",
      "post_year                                  0.13\n",
      "user_accepted_answers_count                0.07\n",
      "post_body_char_count                       0.06\n",
      "post_body_code_perc                        0.06\n",
      "post_body_word_distinct_count              0.05\n",
      "post_body_noun_perc                        0.05\n",
      "post_title_question_flag                   0.04\n",
      "user_question_count                        0.04\n",
      "softwareengineering_stackexchange_com_flag 0.04\n",
      "user_age_days                              0.04\n",
      "askubuntu_com_flag                         0.04\n",
      "cs_stackexchange_com_flag                  0.03\n",
      "user_location_flag                         0.03\n",
      "tag_post_count_365d_avg                    0.03\n",
      "post_title_noun_perc                       0.02\n",
      "gamedev_stackexchange_com_flag             0.02\n",
      "raspberrypi_stackexchange_com_flag         0.02\n",
      "tag_post_count_30d_max                     0.02\n",
      "post_title_word_distinct_count             0.02\n",
      "user_answered_questions_count              0.02\n",
      "dba_stackexchange_com_flag                 0.02\n",
      "tag_post_count_30d_avg                     0.01\n",
      "user_post_count                            0.01\n",
      "user_about_me_flag                         0.01\n",
      "tag_age_days_avg                           0.01\n",
      "unix_stackexchange_com_flag                0.01\n",
      "tag_post_count_avg                         0.01\n",
      "post_title_adverb_perc                     0.01\n",
      "tag_post_count_365d_max                    0.01\n",
      "tag_age_days_max                           0.01\n",
      "post_body_sentence_count                   0.01\n",
      "post_body_pronoun_perc                     0.01\n",
      "post_body_verb_perc                        0.01\n",
      "user_badge_3_count                         0.01\n",
      "android_stackexchange_com_flag             0.00\n",
      "user_question_score                        0.00\n",
      "post_tag_count                             0.00\n",
      "user_badge_count                           0.00\n",
      "post_hour                                  0.00\n",
      "post_body_nocode_char_count                0.00\n",
      "post_body_adjective_perc                   0.00\n",
      "post_body_link_flag                        0.00\n",
      "datascience_stackexchange_com_flag         0.00\n",
      "user_answer_score                          0.00\n",
      "post_title_adjective_perc                  0.00\n",
      "post_body_adverb_perc                      0.00\n",
      "tag_post_count_max                         0.00\n",
      "post_title_in_body_perc                    0.00\n",
      "post_month                                 0.00\n",
      "post_title_verb_perc                       0.00\n",
      "user_first_question_flag                   0.00\n",
      "post_body_word_count                       0.00\n",
      "user_answer_count                          0.00\n",
      "user_badge_1_count                         0.00\n",
      "user_score                                 0.00\n",
      "post_title_char_count                      0.00\n",
      "post_title_word_count                      0.00\n",
      "post_body_bold_flag                        0.00\n",
      "user_website_flag                          0.00\n",
      "post_title_upper_flag                      0.00\n",
      "post_title_pronoun_perc                    0.00\n",
      "post_body_image_flag                       0.00\n",
      "devops_stackexchange_com_flag              0.00\n",
      "post_body_code_flag                        0.00\n",
      "user_first_post_flag                       0.00\n",
      "post_dayofweek                             0.00\n",
      "user_badge_2_count                         0.00"
     ]
    }
   ],
   "source": [
    "print(\"PR AUC:\", crossval.getEvaluator().evaluate(prediction))\n",
    "print(\"ROC AUC:\", BinaryClassificationEvaluator(metricName=\"areaUnderROC\").evaluate(prediction))\n",
    "print(\"Accuracy:\", MulticlassClassificationEvaluator(metricName=\"accuracy\").evaluate(prediction))\n",
    "\n",
    "metrics = MulticlassMetrics(prediction.select(\"prediction\", \"label\").rdd.map(tuple))\n",
    "print(\"\\nConfusion matrix:\\n\", metrics.confusionMatrix().toArray()/test.count())\n",
    "\n",
    "print(\"\\nFeature importance\")\n",
    "pd.DataFrame(model.stages[2].featureImportances.toArray(), index=x)\\\n",
    ".sort_values(0, ascending=False)"
   ]
  },
  {
   "cell_type": "markdown",
   "metadata": {},
   "source": [
    "## Save model"
   ]
  },
  {
   "cell_type": "code",
   "execution_count": 18,
   "metadata": {},
   "outputs": [
    {
     "data": {
      "application/vnd.jupyter.widget-view+json": {
       "model_id": "e45ba44dfbe34276b9baebdbc09795ba",
       "version_major": 2,
       "version_minor": 0
      },
      "text/plain": [
       "VBox()"
      ]
     },
     "metadata": {},
     "output_type": "display_data"
    },
    {
     "data": {
      "application/vnd.jupyter.widget-view+json": {
       "model_id": "",
       "version_major": 2,
       "version_minor": 0
      },
      "text/plain": [
       "FloatProgress(value=0.0, bar_style='info', description='Progress:', layout=Layout(height='25px', width='50%'),…"
      ]
     },
     "metadata": {},
     "output_type": "display_data"
    }
   ],
   "source": [
    "# Save model\n",
    "SimpleSparkSerializer().serializeToBundle(model, \"jar:file:/tmp/model.zip\", prediction)\n",
    "with zipfile.ZipFile(\"/tmp/model.zip\") as zf:\n",
    "    zf.extractall(\"/tmp/model\")\n",
    "with tarfile.open(\"/tmp/model.tar.gz\", \"w:gz\") as tar:\n",
    "    tar.add(\"/tmp/model/bundle.json\", arcname='bundle.json')\n",
    "    tar.add(\"/tmp/model/root\", arcname='root')\n",
    "    \n",
    "# upload to S3\n",
    "# MLeap format\n",
    "s3 = boto3.resource('s3') \n",
    "bucket_name = \"ratemypost-pre\"\n",
    "s3.Bucket(bucket_name).upload_file('/tmp/model.tar.gz', \"model.tar.gz\")\n",
    "\n",
    "# Spark format\n",
    "model.write().overwrite().save(f\"s3://{bucket_name}/sparkmodel\")"
   ]
  }
 ],
 "metadata": {
  "kernelspec": {
   "display_name": "PySpark",
   "language": "",
   "name": "pysparkkernel"
  },
  "language_info": {
   "codemirror_mode": {
    "name": "python",
    "version": 3
   },
   "mimetype": "text/x-python",
   "name": "pyspark",
   "pygments_lexer": "python3"
  }
 },
 "nbformat": 4,
 "nbformat_minor": 4
}
